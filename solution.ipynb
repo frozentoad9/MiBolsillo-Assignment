{
 "cells": [
  {
   "cell_type": "code",
   "execution_count": 6,
   "metadata": {},
   "outputs": [],
   "source": [
    "#importing relevant libraries\n",
    "import pandas as pd"
   ]
  },
  {
   "cell_type": "markdown",
   "metadata": {},
   "source": [
    "### 1.\tWhat would be the suggested steps to make this Supervised Learning Model?"
   ]
  },
  {
   "cell_type": "markdown",
   "metadata": {},
   "source": [
    "#### 1. First and most important thing to with the data is the cleaning part. In this part we import the data from the CSV file into the     notebook and remove all the non-ASCII characters.\n",
    "#### 2. First and most important thing to with the data is the cleaning part. In this part we import the data from the CSV file into the     notebook and remove all the non-ASCII characters."
   ]
  },
  {
   "cell_type": "markdown",
   "metadata": {},
   "source": []
  },
  {
   "cell_type": "code",
   "execution_count": null,
   "metadata": {},
   "outputs": [],
   "source": []
  },
  {
   "cell_type": "code",
   "execution_count": null,
   "metadata": {},
   "outputs": [],
   "source": []
  },
  {
   "cell_type": "code",
   "execution_count": null,
   "metadata": {},
   "outputs": [],
   "source": []
  },
  {
   "cell_type": "code",
   "execution_count": null,
   "metadata": {},
   "outputs": [],
   "source": []
  },
  {
   "cell_type": "code",
   "execution_count": 7,
   "metadata": {},
   "outputs": [],
   "source": [
    "df = pd.read_csv(\"base_poupacerto_20200519.csv\", sep=';')"
   ]
  },
  {
   "cell_type": "code",
   "execution_count": 8,
   "metadata": {},
   "outputs": [
    {
     "data": {
      "text/html": [
       "<div>\n",
       "<style scoped>\n",
       "    .dataframe tbody tr th:only-of-type {\n",
       "        vertical-align: middle;\n",
       "    }\n",
       "\n",
       "    .dataframe tbody tr th {\n",
       "        vertical-align: top;\n",
       "    }\n",
       "\n",
       "    .dataframe thead th {\n",
       "        text-align: right;\n",
       "    }\n",
       "</style>\n",
       "<table border=\"1\" class=\"dataframe\">\n",
       "  <thead>\n",
       "    <tr style=\"text-align: right;\">\n",
       "      <th></th>\n",
       "      <th>id</th>\n",
       "      <th>celular</th>\n",
       "      <th>safra_abertura</th>\n",
       "      <th>cidade</th>\n",
       "      <th>estado</th>\n",
       "      <th>idade</th>\n",
       "      <th>sexo</th>\n",
       "      <th>limite_total</th>\n",
       "      <th>limite_disp</th>\n",
       "      <th>data</th>\n",
       "      <th>valor</th>\n",
       "      <th>grupo_estabelecimento</th>\n",
       "      <th>cidade_estabelecimento</th>\n",
       "      <th>pais_estabelecimento,,,</th>\n",
       "    </tr>\n",
       "  </thead>\n",
       "  <tbody>\n",
       "    <tr>\n",
       "      <th>0</th>\n",
       "      <td>4,52863E+11</td>\n",
       "      <td>+55 (11) 96387-9924</td>\n",
       "      <td>201405</td>\n",
       "      <td>CAMPO LIMPO PAULISTA</td>\n",
       "      <td>SP</td>\n",
       "      <td>37</td>\n",
       "      <td>F</td>\n",
       "      <td>4700</td>\n",
       "      <td>5605</td>\n",
       "      <td>04/12/19</td>\n",
       "      <td>31</td>\n",
       "      <td>SERVI�O</td>\n",
       "      <td>SAO PAULO</td>\n",
       "      <td>,,</td>\n",
       "    </tr>\n",
       "    <tr>\n",
       "      <th>1</th>\n",
       "      <td>4,52863E+11</td>\n",
       "      <td>+55 (11) 96387-9924</td>\n",
       "      <td>201405</td>\n",
       "      <td>CAMPO LIMPO PAULISTA</td>\n",
       "      <td>SP</td>\n",
       "      <td>37</td>\n",
       "      <td>F</td>\n",
       "      <td>4700</td>\n",
       "      <td>5343</td>\n",
       "      <td>09/11/19</td>\n",
       "      <td>150,01</td>\n",
       "      <td>FARMACIAS</td>\n",
       "      <td>SANTOS</td>\n",
       "      <td>BR,</td>\n",
       "    </tr>\n",
       "    <tr>\n",
       "      <th>2</th>\n",
       "      <td>4,52863E+11</td>\n",
       "      <td>+55 (11) 96387-9924</td>\n",
       "      <td>201405</td>\n",
       "      <td>CAMPO LIMPO PAULISTA</td>\n",
       "      <td>SP</td>\n",
       "      <td>37</td>\n",
       "      <td>F</td>\n",
       "      <td>4700</td>\n",
       "      <td>2829</td>\n",
       "      <td>06/05/19</td>\n",
       "      <td>50</td>\n",
       "      <td>SERVI�O</td>\n",
       "      <td>SAO PAULO</td>\n",
       "      <td>,,</td>\n",
       "    </tr>\n",
       "    <tr>\n",
       "      <th>3</th>\n",
       "      <td>4,52863E+11</td>\n",
       "      <td>+55 (11) 96387-9924</td>\n",
       "      <td>201405</td>\n",
       "      <td>CAMPO LIMPO PAULISTA</td>\n",
       "      <td>SP</td>\n",
       "      <td>37</td>\n",
       "      <td>F</td>\n",
       "      <td>4700</td>\n",
       "      <td>2547</td>\n",
       "      <td>01/06/19</td>\n",
       "      <td>54,4</td>\n",
       "      <td>M.O.T.O.</td>\n",
       "      <td>OSASCO</td>\n",
       "      <td>BR,</td>\n",
       "    </tr>\n",
       "    <tr>\n",
       "      <th>4</th>\n",
       "      <td>4,52863E+11</td>\n",
       "      <td>+55 (11) 96387-9924</td>\n",
       "      <td>201405</td>\n",
       "      <td>CAMPO LIMPO PAULISTA</td>\n",
       "      <td>SP</td>\n",
       "      <td>37</td>\n",
       "      <td>F</td>\n",
       "      <td>4700</td>\n",
       "      <td>2515</td>\n",
       "      <td>01/06/19</td>\n",
       "      <td>32,79</td>\n",
       "      <td>M.O.T.O.</td>\n",
       "      <td>OSASCO</td>\n",
       "      <td>BR,</td>\n",
       "    </tr>\n",
       "  </tbody>\n",
       "</table>\n",
       "</div>"
      ],
      "text/plain": [
       "            id              celular  safra_abertura                  cidade  \\\n",
       "0  4,52863E+11  +55 (11) 96387-9924          201405  CAMPO LIMPO PAULISTA     \n",
       "1  4,52863E+11  +55 (11) 96387-9924          201405  CAMPO LIMPO PAULISTA     \n",
       "2  4,52863E+11  +55 (11) 96387-9924          201405  CAMPO LIMPO PAULISTA     \n",
       "3  4,52863E+11  +55 (11) 96387-9924          201405  CAMPO LIMPO PAULISTA     \n",
       "4  4,52863E+11  +55 (11) 96387-9924          201405  CAMPO LIMPO PAULISTA     \n",
       "\n",
       "  estado  idade sexo  limite_total  limite_disp      data  valor   \\\n",
       "0    SP      37    F          4700         5605  04/12/19      31   \n",
       "1    SP      37    F          4700         5343  09/11/19  150,01   \n",
       "2    SP      37    F          4700         2829  06/05/19      50   \n",
       "3    SP      37    F          4700         2547  01/06/19    54,4   \n",
       "4    SP      37    F          4700         2515  01/06/19   32,79   \n",
       "\n",
       "  grupo_estabelecimento cidade_estabelecimento pais_estabelecimento,,,  \n",
       "0               SERVI�O              SAO PAULO                      ,,  \n",
       "1             FARMACIAS                 SANTOS                     BR,  \n",
       "2               SERVI�O              SAO PAULO                      ,,  \n",
       "3              M.O.T.O.                 OSASCO                     BR,  \n",
       "4              M.O.T.O.                 OSASCO                     BR,  "
      ]
     },
     "execution_count": 8,
     "metadata": {},
     "output_type": "execute_result"
    }
   ],
   "source": [
    "df.head()"
   ]
  },
  {
   "cell_type": "code",
   "execution_count": 9,
   "metadata": {},
   "outputs": [
    {
     "data": {
      "text/plain": [
       "Index(['id', 'celular', 'safra_abertura', 'cidade', 'estado', 'idade', 'sexo',\n",
       "       'limite_total', 'limite_disp', 'data', ' valor ',\n",
       "       'grupo_estabelecimento', 'cidade_estabelecimento',\n",
       "       'pais_estabelecimento,,,'],\n",
       "      dtype='object')"
      ]
     },
     "execution_count": 9,
     "metadata": {},
     "output_type": "execute_result"
    }
   ],
   "source": [
    "df.columns"
   ]
  },
  {
   "cell_type": "code",
   "execution_count": 10,
   "metadata": {},
   "outputs": [
    {
     "data": {
      "text/plain": [
       "id                          0\n",
       "celular                     0\n",
       "safra_abertura              0\n",
       "cidade                      0\n",
       "estado                      0\n",
       "idade                       0\n",
       "sexo                        0\n",
       "limite_total                0\n",
       "limite_disp                 0\n",
       "data                        0\n",
       " valor                      0\n",
       "grupo_estabelecimento       0\n",
       "cidade_estabelecimento     19\n",
       "pais_estabelecimento,,,    12\n",
       "dtype: int64"
      ]
     },
     "execution_count": 10,
     "metadata": {},
     "output_type": "execute_result"
    }
   ],
   "source": [
    "df.isnull().sum()"
   ]
  },
  {
   "cell_type": "code",
   "execution_count": 35,
   "metadata": {},
   "outputs": [
    {
     "data": {
      "text/plain": [
       "id                           29\n",
       "celular                      29\n",
       "safra_abertura               23\n",
       "cidade                       10\n",
       "estado                        2\n",
       "idade                        20\n",
       "sexo                          2\n",
       "limite_total                 55\n",
       "limite_disp                3801\n",
       "data                        403\n",
       " valor                     2710\n",
       "grupo_estabelecimento        25\n",
       "cidade_estabelecimento      141\n",
       "pais_estabelecimento,,,      14\n",
       "dtype: int64"
      ]
     },
     "execution_count": 35,
     "metadata": {},
     "output_type": "execute_result"
    }
   ],
   "source": [
    "#unique values in the columns\n",
    "df.nunique(axis=0)"
   ]
  },
  {
   "cell_type": "code",
   "execution_count": null,
   "metadata": {},
   "outputs": [],
   "source": []
  },
  {
   "cell_type": "code",
   "execution_count": null,
   "metadata": {},
   "outputs": [],
   "source": []
  }
 ],
 "metadata": {
  "kernelspec": {
   "display_name": "Python 3",
   "language": "python",
   "name": "python3"
  },
  "language_info": {
   "codemirror_mode": {
    "name": "ipython",
    "version": 3
   },
   "file_extension": ".py",
   "mimetype": "text/x-python",
   "name": "python",
   "nbconvert_exporter": "python",
   "pygments_lexer": "ipython3",
   "version": "3.8.3"
  }
 },
 "nbformat": 4,
 "nbformat_minor": 4
}
