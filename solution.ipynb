{
  "nbformat": 4,
  "nbformat_minor": 0,
  "metadata": {
    "kernelspec": {
      "display_name": "Python 3",
      "language": "python",
      "name": "python3"
    },
    "language_info": {
      "codemirror_mode": {
        "name": "ipython",
        "version": 3
      },
      "file_extension": ".py",
      "mimetype": "text/x-python",
      "name": "python",
      "nbconvert_exporter": "python",
      "pygments_lexer": "ipython3",
      "version": "3.8.3"
    },
    "colab": {
      "name": "solution.ipynb",
      "provenance": [],
      "collapsed_sections": []
    }
  },
  "cells": [
    {
      "cell_type": "markdown",
      "metadata": {
        "id": "K9VEDl1kfOEo"
      },
      "source": [
        ""
      ]
    },
    {
      "cell_type": "code",
      "metadata": {
        "id": "DaU25MWgbtt_"
      },
      "source": [
        "#importing relevant libraries for analysis and visualization\n",
        "import pandas as pd\n",
        "import numpy as np\n",
        "import matplotlib.pyplot as plt\n",
        "import seaborn as sns\n",
        "import warnings\n",
        "warnings.filterwarnings(\"ignore\")"
      ],
      "execution_count": null,
      "outputs": []
    },
    {
      "cell_type": "markdown",
      "metadata": {
        "id": "Txpu_uTmbtuF"
      },
      "source": [
        "### **1.\tWhat would be the suggested steps to make this Supervised Learning Model?**\r\n",
        "*   First and most important thing to with the data is the cleaning part. In this part we import the data from the CSV file into the     notebook and remove all the non-ASCII characters.\r\n",
        "*   First and most important thing to with the data is the cleaning part. In this part we import the data from the CSV file into the notebook and remove all the non-ASCII characters.\r\n",
        "\r\n",
        "\r\n"
      ]
    },
    {
      "cell_type": "markdown",
      "metadata": {
        "id": "quvVDj3MQLyo"
      },
      "source": [
        "### **3.\tDo you consider a need to apply any preprocessing on the training dataset? If so, why?**\r\n",
        "######**Preprocesing starts after this Text block* \r\n",
        "\r\n",
        "\r\n",
        "*   Removed non-ASCII values from the **category of expenses** column.\r\n",
        "*   converted date object to **dateTime** format for their use in analysis. \r\n",
        "*   Converting the dtype of **amount** from object to **float** and removed unnecessary characters like \"-\", replaced \",\" by \".\" to make sure the data transforms into float.\r\n",
        "* Created **dummy variables** for the gender column and created a **new feature male** and removed the old gender feature. This was done because ML models expects data to be in numeric form.\r\n",
        "\r\n",
        "\r\n",
        "\r\n",
        "\r\n",
        "\r\n"
      ]
    },
    {
      "cell_type": "markdown",
      "metadata": {
        "id": "eT9Abld_Lo4M"
      },
      "source": [
        "###**Preprocessing**"
      ]
    },
    {
      "cell_type": "code",
      "metadata": {
        "colab": {
          "base_uri": "https://localhost:8080/",
          "height": 383
        },
        "id": "aiZg5r7IbtuM",
        "outputId": "74e85fef-7a59-40dc-a8c1-45c2ad63e66e"
      },
      "source": [
        "#importing the semi-colon seperated data\r\n",
        "df = pd.read_csv(\"base_poupacerto_20200519.csv\", encoding = 'latin', sep=';')\r\n",
        "df.head()     #Top 5 rows in the data"
      ],
      "execution_count": null,
      "outputs": [
        {
          "output_type": "execute_result",
          "data": {
            "text/html": [
              "<div>\n",
              "<style scoped>\n",
              "    .dataframe tbody tr th:only-of-type {\n",
              "        vertical-align: middle;\n",
              "    }\n",
              "\n",
              "    .dataframe tbody tr th {\n",
              "        vertical-align: top;\n",
              "    }\n",
              "\n",
              "    .dataframe thead th {\n",
              "        text-align: right;\n",
              "    }\n",
              "</style>\n",
              "<table border=\"1\" class=\"dataframe\">\n",
              "  <thead>\n",
              "    <tr style=\"text-align: right;\">\n",
              "      <th></th>\n",
              "      <th>id</th>\n",
              "      <th>celular</th>\n",
              "      <th>safra_abertura</th>\n",
              "      <th>cidade</th>\n",
              "      <th>estado</th>\n",
              "      <th>idade</th>\n",
              "      <th>sexo</th>\n",
              "      <th>limite_total</th>\n",
              "      <th>limite_disp</th>\n",
              "      <th>data</th>\n",
              "      <th>valor</th>\n",
              "      <th>grupo_estabelecimento</th>\n",
              "      <th>cidade_estabelecimento</th>\n",
              "      <th>pais_estabelecimento,,,</th>\n",
              "    </tr>\n",
              "  </thead>\n",
              "  <tbody>\n",
              "    <tr>\n",
              "      <th>0</th>\n",
              "      <td>4,52863E+11</td>\n",
              "      <td>+55 (11) 96387-9924</td>\n",
              "      <td>201405</td>\n",
              "      <td>CAMPO LIMPO PAULISTA</td>\n",
              "      <td>SP</td>\n",
              "      <td>37</td>\n",
              "      <td>F</td>\n",
              "      <td>4700</td>\n",
              "      <td>5605</td>\n",
              "      <td>04/12/19</td>\n",
              "      <td>31</td>\n",
              "      <td>SERVIï¿½O</td>\n",
              "      <td>SAO PAULO</td>\n",
              "      <td>,,</td>\n",
              "    </tr>\n",
              "    <tr>\n",
              "      <th>1</th>\n",
              "      <td>4,52863E+11</td>\n",
              "      <td>+55 (11) 96387-9924</td>\n",
              "      <td>201405</td>\n",
              "      <td>CAMPO LIMPO PAULISTA</td>\n",
              "      <td>SP</td>\n",
              "      <td>37</td>\n",
              "      <td>F</td>\n",
              "      <td>4700</td>\n",
              "      <td>5343</td>\n",
              "      <td>09/11/19</td>\n",
              "      <td>150,01</td>\n",
              "      <td>FARMACIAS</td>\n",
              "      <td>SANTOS</td>\n",
              "      <td>BR,</td>\n",
              "    </tr>\n",
              "    <tr>\n",
              "      <th>2</th>\n",
              "      <td>4,52863E+11</td>\n",
              "      <td>+55 (11) 96387-9924</td>\n",
              "      <td>201405</td>\n",
              "      <td>CAMPO LIMPO PAULISTA</td>\n",
              "      <td>SP</td>\n",
              "      <td>37</td>\n",
              "      <td>F</td>\n",
              "      <td>4700</td>\n",
              "      <td>2829</td>\n",
              "      <td>06/05/19</td>\n",
              "      <td>50</td>\n",
              "      <td>SERVIï¿½O</td>\n",
              "      <td>SAO PAULO</td>\n",
              "      <td>,,</td>\n",
              "    </tr>\n",
              "    <tr>\n",
              "      <th>3</th>\n",
              "      <td>4,52863E+11</td>\n",
              "      <td>+55 (11) 96387-9924</td>\n",
              "      <td>201405</td>\n",
              "      <td>CAMPO LIMPO PAULISTA</td>\n",
              "      <td>SP</td>\n",
              "      <td>37</td>\n",
              "      <td>F</td>\n",
              "      <td>4700</td>\n",
              "      <td>2547</td>\n",
              "      <td>01/06/19</td>\n",
              "      <td>54,4</td>\n",
              "      <td>M.O.T.O.</td>\n",
              "      <td>OSASCO</td>\n",
              "      <td>BR,</td>\n",
              "    </tr>\n",
              "    <tr>\n",
              "      <th>4</th>\n",
              "      <td>4,52863E+11</td>\n",
              "      <td>+55 (11) 96387-9924</td>\n",
              "      <td>201405</td>\n",
              "      <td>CAMPO LIMPO PAULISTA</td>\n",
              "      <td>SP</td>\n",
              "      <td>37</td>\n",
              "      <td>F</td>\n",
              "      <td>4700</td>\n",
              "      <td>2515</td>\n",
              "      <td>01/06/19</td>\n",
              "      <td>32,79</td>\n",
              "      <td>M.O.T.O.</td>\n",
              "      <td>OSASCO</td>\n",
              "      <td>BR,</td>\n",
              "    </tr>\n",
              "  </tbody>\n",
              "</table>\n",
              "</div>"
            ],
            "text/plain": [
              "            id  ... pais_estabelecimento,,,\n",
              "0  4,52863E+11  ...                      ,,\n",
              "1  4,52863E+11  ...                     BR,\n",
              "2  4,52863E+11  ...                      ,,\n",
              "3  4,52863E+11  ...                     BR,\n",
              "4  4,52863E+11  ...                     BR,\n",
              "\n",
              "[5 rows x 14 columns]"
            ]
          },
          "metadata": {
            "tags": []
          },
          "execution_count": 179
        }
      ]
    },
    {
      "cell_type": "code",
      "metadata": {
        "colab": {
          "base_uri": "https://localhost:8080/"
        },
        "id": "nTFiVVszINzq",
        "outputId": "c75b5467-e03c-4ee8-dbd1-0484fb60f069"
      },
      "source": [
        "df.id.nunique()"
      ],
      "execution_count": null,
      "outputs": [
        {
          "output_type": "execute_result",
          "data": {
            "text/plain": [
              "29"
            ]
          },
          "metadata": {
            "tags": []
          },
          "execution_count": 180
        }
      ]
    },
    {
      "cell_type": "code",
      "metadata": {
        "colab": {
          "base_uri": "https://localhost:8080/"
        },
        "id": "G3uAK0t8btuN",
        "outputId": "912a3f95-cac2-43ae-c760-3076146de18d"
      },
      "source": [
        "#checking the null values\r\n",
        "df.isnull().sum()"
      ],
      "execution_count": null,
      "outputs": [
        {
          "output_type": "execute_result",
          "data": {
            "text/plain": [
              "id                          0\n",
              "celular                     0\n",
              "safra_abertura              0\n",
              "cidade                      0\n",
              "estado                      0\n",
              "idade                       0\n",
              "sexo                        0\n",
              "limite_total                0\n",
              "limite_disp                 0\n",
              "data                        0\n",
              " valor                      0\n",
              "grupo_estabelecimento       0\n",
              "cidade_estabelecimento     19\n",
              "pais_estabelecimento,,,    12\n",
              "dtype: int64"
            ]
          },
          "metadata": {
            "tags": []
          },
          "execution_count": 181
        }
      ]
    },
    {
      "cell_type": "markdown",
      "metadata": {
        "id": "jfs37R3Wg6mF"
      },
      "source": [
        "*   *City and Country has some missing values (Comparitively lower than the whole data)*\r\n",
        "\r\n",
        "\r\n",
        "\r\n",
        "\r\n",
        "\r\n",
        "\r\n",
        "\r\n"
      ]
    },
    {
      "cell_type": "code",
      "metadata": {
        "colab": {
          "base_uri": "https://localhost:8080/"
        },
        "id": "acmvYwY7btuO",
        "outputId": "13d09ac7-2301-465e-e392-d2979abfea45"
      },
      "source": [
        "df.shape"
      ],
      "execution_count": null,
      "outputs": [
        {
          "output_type": "execute_result",
          "data": {
            "text/plain": [
              "(4955, 14)"
            ]
          },
          "metadata": {
            "tags": []
          },
          "execution_count": 182
        }
      ]
    },
    {
      "cell_type": "markdown",
      "metadata": {
        "id": "IQH4FaF_hUSQ"
      },
      "source": [
        "\r\n",
        "\r\n",
        "*   *Total 4955 rows in the data with 14 columns (features)*\r\n",
        "\r\n",
        "\r\n",
        "\r\n",
        "\r\n"
      ]
    },
    {
      "cell_type": "code",
      "metadata": {
        "colab": {
          "base_uri": "https://localhost:8080/"
        },
        "id": "tkjthlPcbtuX",
        "outputId": "05e20211-72bd-4fac-d875-21374e8d06cf"
      },
      "source": [
        "#unique values in the columns\n",
        "df.nunique(axis=0)"
      ],
      "execution_count": null,
      "outputs": [
        {
          "output_type": "execute_result",
          "data": {
            "text/plain": [
              "id                           29\n",
              "celular                      29\n",
              "safra_abertura               23\n",
              "cidade                       10\n",
              "estado                        2\n",
              "idade                        20\n",
              "sexo                          2\n",
              "limite_total                 55\n",
              "limite_disp                3801\n",
              "data                        403\n",
              " valor                     2710\n",
              "grupo_estabelecimento        25\n",
              "cidade_estabelecimento      141\n",
              "pais_estabelecimento,,,      14\n",
              "dtype: int64"
            ]
          },
          "metadata": {
            "tags": []
          },
          "execution_count": 183
        }
      ]
    },
    {
      "cell_type": "code",
      "metadata": {
        "colab": {
          "base_uri": "https://localhost:8080/"
        },
        "id": "NO-SEV3DbtuY",
        "outputId": "18f6418f-0a95-4903-d13e-34973e812d3a"
      },
      "source": [
        "#columns in the data\r\n",
        "print(df.columns)\r\n",
        "#converting the columns into Enlish Language for better understanding\r\n",
        "df.columns = ['id', 'mob_no', 'branch_no', 'city', 'state', 'age', 'gender',\r\n",
        "              'total_CC_limit', 'current_avl_limit', 'date', 'amount', 'categ_exp', 'purchasing_city', 'purchasing_country']"
      ],
      "execution_count": null,
      "outputs": [
        {
          "output_type": "stream",
          "text": [
            "Index(['id', 'celular', 'safra_abertura', 'cidade', 'estado', 'idade', 'sexo',\n",
            "       'limite_total', 'limite_disp', 'data', ' valor ',\n",
            "       'grupo_estabelecimento', 'cidade_estabelecimento',\n",
            "       'pais_estabelecimento,,,'],\n",
            "      dtype='object')\n"
          ],
          "name": "stdout"
        }
      ]
    },
    {
      "cell_type": "code",
      "metadata": {
        "colab": {
          "base_uri": "https://localhost:8080/",
          "height": 279
        },
        "id": "fj-_vn25btuZ",
        "outputId": "7598d53e-a6c4-490b-c5ae-cd4aca33ee97"
      },
      "source": [
        "df.head()"
      ],
      "execution_count": null,
      "outputs": [
        {
          "output_type": "execute_result",
          "data": {
            "text/html": [
              "<div>\n",
              "<style scoped>\n",
              "    .dataframe tbody tr th:only-of-type {\n",
              "        vertical-align: middle;\n",
              "    }\n",
              "\n",
              "    .dataframe tbody tr th {\n",
              "        vertical-align: top;\n",
              "    }\n",
              "\n",
              "    .dataframe thead th {\n",
              "        text-align: right;\n",
              "    }\n",
              "</style>\n",
              "<table border=\"1\" class=\"dataframe\">\n",
              "  <thead>\n",
              "    <tr style=\"text-align: right;\">\n",
              "      <th></th>\n",
              "      <th>id</th>\n",
              "      <th>mob_no</th>\n",
              "      <th>branch_no</th>\n",
              "      <th>city</th>\n",
              "      <th>state</th>\n",
              "      <th>age</th>\n",
              "      <th>gender</th>\n",
              "      <th>total_CC_limit</th>\n",
              "      <th>current_avl_limit</th>\n",
              "      <th>date</th>\n",
              "      <th>amount</th>\n",
              "      <th>categ_exp</th>\n",
              "      <th>purchasing_city</th>\n",
              "      <th>purchasing_country</th>\n",
              "    </tr>\n",
              "  </thead>\n",
              "  <tbody>\n",
              "    <tr>\n",
              "      <th>0</th>\n",
              "      <td>4,52863E+11</td>\n",
              "      <td>+55 (11) 96387-9924</td>\n",
              "      <td>201405</td>\n",
              "      <td>CAMPO LIMPO PAULISTA</td>\n",
              "      <td>SP</td>\n",
              "      <td>37</td>\n",
              "      <td>F</td>\n",
              "      <td>4700</td>\n",
              "      <td>5605</td>\n",
              "      <td>04/12/19</td>\n",
              "      <td>31</td>\n",
              "      <td>SERVIï¿½O</td>\n",
              "      <td>SAO PAULO</td>\n",
              "      <td>,,</td>\n",
              "    </tr>\n",
              "    <tr>\n",
              "      <th>1</th>\n",
              "      <td>4,52863E+11</td>\n",
              "      <td>+55 (11) 96387-9924</td>\n",
              "      <td>201405</td>\n",
              "      <td>CAMPO LIMPO PAULISTA</td>\n",
              "      <td>SP</td>\n",
              "      <td>37</td>\n",
              "      <td>F</td>\n",
              "      <td>4700</td>\n",
              "      <td>5343</td>\n",
              "      <td>09/11/19</td>\n",
              "      <td>150,01</td>\n",
              "      <td>FARMACIAS</td>\n",
              "      <td>SANTOS</td>\n",
              "      <td>BR,</td>\n",
              "    </tr>\n",
              "    <tr>\n",
              "      <th>2</th>\n",
              "      <td>4,52863E+11</td>\n",
              "      <td>+55 (11) 96387-9924</td>\n",
              "      <td>201405</td>\n",
              "      <td>CAMPO LIMPO PAULISTA</td>\n",
              "      <td>SP</td>\n",
              "      <td>37</td>\n",
              "      <td>F</td>\n",
              "      <td>4700</td>\n",
              "      <td>2829</td>\n",
              "      <td>06/05/19</td>\n",
              "      <td>50</td>\n",
              "      <td>SERVIï¿½O</td>\n",
              "      <td>SAO PAULO</td>\n",
              "      <td>,,</td>\n",
              "    </tr>\n",
              "    <tr>\n",
              "      <th>3</th>\n",
              "      <td>4,52863E+11</td>\n",
              "      <td>+55 (11) 96387-9924</td>\n",
              "      <td>201405</td>\n",
              "      <td>CAMPO LIMPO PAULISTA</td>\n",
              "      <td>SP</td>\n",
              "      <td>37</td>\n",
              "      <td>F</td>\n",
              "      <td>4700</td>\n",
              "      <td>2547</td>\n",
              "      <td>01/06/19</td>\n",
              "      <td>54,4</td>\n",
              "      <td>M.O.T.O.</td>\n",
              "      <td>OSASCO</td>\n",
              "      <td>BR,</td>\n",
              "    </tr>\n",
              "    <tr>\n",
              "      <th>4</th>\n",
              "      <td>4,52863E+11</td>\n",
              "      <td>+55 (11) 96387-9924</td>\n",
              "      <td>201405</td>\n",
              "      <td>CAMPO LIMPO PAULISTA</td>\n",
              "      <td>SP</td>\n",
              "      <td>37</td>\n",
              "      <td>F</td>\n",
              "      <td>4700</td>\n",
              "      <td>2515</td>\n",
              "      <td>01/06/19</td>\n",
              "      <td>32,79</td>\n",
              "      <td>M.O.T.O.</td>\n",
              "      <td>OSASCO</td>\n",
              "      <td>BR,</td>\n",
              "    </tr>\n",
              "  </tbody>\n",
              "</table>\n",
              "</div>"
            ],
            "text/plain": [
              "            id               mob_no  ...  purchasing_city purchasing_country\n",
              "0  4,52863E+11  +55 (11) 96387-9924  ...        SAO PAULO                 ,,\n",
              "1  4,52863E+11  +55 (11) 96387-9924  ...           SANTOS                BR,\n",
              "2  4,52863E+11  +55 (11) 96387-9924  ...        SAO PAULO                 ,,\n",
              "3  4,52863E+11  +55 (11) 96387-9924  ...           OSASCO                BR,\n",
              "4  4,52863E+11  +55 (11) 96387-9924  ...           OSASCO                BR,\n",
              "\n",
              "[5 rows x 14 columns]"
            ]
          },
          "metadata": {
            "tags": []
          },
          "execution_count": 185
        }
      ]
    },
    {
      "cell_type": "code",
      "metadata": {
        "id": "J2hCdWag_z9Z",
        "colab": {
          "base_uri": "https://localhost:8080/"
        },
        "outputId": "18ecd7c8-9ac5-4425-b845-17e80501e237"
      },
      "source": [
        "df.info()"
      ],
      "execution_count": null,
      "outputs": [
        {
          "output_type": "stream",
          "text": [
            "<class 'pandas.core.frame.DataFrame'>\n",
            "RangeIndex: 4955 entries, 0 to 4954\n",
            "Data columns (total 14 columns):\n",
            " #   Column              Non-Null Count  Dtype \n",
            "---  ------              --------------  ----- \n",
            " 0   id                  4955 non-null   object\n",
            " 1   mob_no              4955 non-null   object\n",
            " 2   branch_no           4955 non-null   int64 \n",
            " 3   city                4955 non-null   object\n",
            " 4   state               4955 non-null   object\n",
            " 5   age                 4955 non-null   int64 \n",
            " 6   gender              4955 non-null   object\n",
            " 7   total_CC_limit      4955 non-null   int64 \n",
            " 8   current_avl_limit   4955 non-null   int64 \n",
            " 9   date                4955 non-null   object\n",
            " 10  amount              4955 non-null   object\n",
            " 11  categ_exp           4955 non-null   object\n",
            " 12  purchasing_city     4936 non-null   object\n",
            " 13  purchasing_country  4943 non-null   object\n",
            "dtypes: int64(4), object(10)\n",
            "memory usage: 542.1+ KB\n"
          ],
          "name": "stdout"
        }
      ]
    },
    {
      "cell_type": "code",
      "metadata": {
        "colab": {
          "base_uri": "https://localhost:8080/"
        },
        "id": "WHkjlSD81i4m",
        "outputId": "5dba4def-9c46-43bb-ac69-df5fbf8dcaf5"
      },
      "source": [
        "df.date"
      ],
      "execution_count": null,
      "outputs": [
        {
          "output_type": "execute_result",
          "data": {
            "text/plain": [
              "0       04/12/19\n",
              "1       09/11/19\n",
              "2       06/05/19\n",
              "3       01/06/19\n",
              "4       01/06/19\n",
              "          ...   \n",
              "4950    23/01/20\n",
              "4951    23/01/20\n",
              "4952    19/02/20\n",
              "4953    30/03/20\n",
              "4954    24/01/20\n",
              "Name: date, Length: 4955, dtype: object"
            ]
          },
          "metadata": {
            "tags": []
          },
          "execution_count": 187
        }
      ]
    },
    {
      "cell_type": "code",
      "metadata": {
        "id": "OzAMMt9t1x-U"
      },
      "source": [
        "#converting date to datetime format\r\n",
        "df.date = pd.to_datetime(df.date)"
      ],
      "execution_count": null,
      "outputs": []
    },
    {
      "cell_type": "code",
      "metadata": {
        "colab": {
          "base_uri": "https://localhost:8080/"
        },
        "id": "EQpoHzGh18B_",
        "outputId": "6b2f74ce-22bf-486b-de36-444335d1acbc"
      },
      "source": [
        "df.date"
      ],
      "execution_count": null,
      "outputs": [
        {
          "output_type": "execute_result",
          "data": {
            "text/plain": [
              "0      2019-04-12\n",
              "1      2019-09-11\n",
              "2      2019-06-05\n",
              "3      2019-01-06\n",
              "4      2019-01-06\n",
              "          ...    \n",
              "4950   2020-01-23\n",
              "4951   2020-01-23\n",
              "4952   2020-02-19\n",
              "4953   2020-03-30\n",
              "4954   2020-01-24\n",
              "Name: date, Length: 4955, dtype: datetime64[ns]"
            ]
          },
          "metadata": {
            "tags": []
          },
          "execution_count": 189
        }
      ]
    },
    {
      "cell_type": "code",
      "metadata": {
        "colab": {
          "base_uri": "https://localhost:8080/",
          "height": 279
        },
        "id": "SxBsbocx7DdR",
        "outputId": "53c44a63-9252-42d6-8b11-28ba5ee3f358"
      },
      "source": [
        "df.head()"
      ],
      "execution_count": null,
      "outputs": [
        {
          "output_type": "execute_result",
          "data": {
            "text/html": [
              "<div>\n",
              "<style scoped>\n",
              "    .dataframe tbody tr th:only-of-type {\n",
              "        vertical-align: middle;\n",
              "    }\n",
              "\n",
              "    .dataframe tbody tr th {\n",
              "        vertical-align: top;\n",
              "    }\n",
              "\n",
              "    .dataframe thead th {\n",
              "        text-align: right;\n",
              "    }\n",
              "</style>\n",
              "<table border=\"1\" class=\"dataframe\">\n",
              "  <thead>\n",
              "    <tr style=\"text-align: right;\">\n",
              "      <th></th>\n",
              "      <th>id</th>\n",
              "      <th>mob_no</th>\n",
              "      <th>branch_no</th>\n",
              "      <th>city</th>\n",
              "      <th>state</th>\n",
              "      <th>age</th>\n",
              "      <th>gender</th>\n",
              "      <th>total_CC_limit</th>\n",
              "      <th>current_avl_limit</th>\n",
              "      <th>date</th>\n",
              "      <th>amount</th>\n",
              "      <th>categ_exp</th>\n",
              "      <th>purchasing_city</th>\n",
              "      <th>purchasing_country</th>\n",
              "    </tr>\n",
              "  </thead>\n",
              "  <tbody>\n",
              "    <tr>\n",
              "      <th>0</th>\n",
              "      <td>4,52863E+11</td>\n",
              "      <td>+55 (11) 96387-9924</td>\n",
              "      <td>201405</td>\n",
              "      <td>CAMPO LIMPO PAULISTA</td>\n",
              "      <td>SP</td>\n",
              "      <td>37</td>\n",
              "      <td>F</td>\n",
              "      <td>4700</td>\n",
              "      <td>5605</td>\n",
              "      <td>2019-04-12</td>\n",
              "      <td>31</td>\n",
              "      <td>SERVIï¿½O</td>\n",
              "      <td>SAO PAULO</td>\n",
              "      <td>,,</td>\n",
              "    </tr>\n",
              "    <tr>\n",
              "      <th>1</th>\n",
              "      <td>4,52863E+11</td>\n",
              "      <td>+55 (11) 96387-9924</td>\n",
              "      <td>201405</td>\n",
              "      <td>CAMPO LIMPO PAULISTA</td>\n",
              "      <td>SP</td>\n",
              "      <td>37</td>\n",
              "      <td>F</td>\n",
              "      <td>4700</td>\n",
              "      <td>5343</td>\n",
              "      <td>2019-09-11</td>\n",
              "      <td>150,01</td>\n",
              "      <td>FARMACIAS</td>\n",
              "      <td>SANTOS</td>\n",
              "      <td>BR,</td>\n",
              "    </tr>\n",
              "    <tr>\n",
              "      <th>2</th>\n",
              "      <td>4,52863E+11</td>\n",
              "      <td>+55 (11) 96387-9924</td>\n",
              "      <td>201405</td>\n",
              "      <td>CAMPO LIMPO PAULISTA</td>\n",
              "      <td>SP</td>\n",
              "      <td>37</td>\n",
              "      <td>F</td>\n",
              "      <td>4700</td>\n",
              "      <td>2829</td>\n",
              "      <td>2019-06-05</td>\n",
              "      <td>50</td>\n",
              "      <td>SERVIï¿½O</td>\n",
              "      <td>SAO PAULO</td>\n",
              "      <td>,,</td>\n",
              "    </tr>\n",
              "    <tr>\n",
              "      <th>3</th>\n",
              "      <td>4,52863E+11</td>\n",
              "      <td>+55 (11) 96387-9924</td>\n",
              "      <td>201405</td>\n",
              "      <td>CAMPO LIMPO PAULISTA</td>\n",
              "      <td>SP</td>\n",
              "      <td>37</td>\n",
              "      <td>F</td>\n",
              "      <td>4700</td>\n",
              "      <td>2547</td>\n",
              "      <td>2019-01-06</td>\n",
              "      <td>54,4</td>\n",
              "      <td>M.O.T.O.</td>\n",
              "      <td>OSASCO</td>\n",
              "      <td>BR,</td>\n",
              "    </tr>\n",
              "    <tr>\n",
              "      <th>4</th>\n",
              "      <td>4,52863E+11</td>\n",
              "      <td>+55 (11) 96387-9924</td>\n",
              "      <td>201405</td>\n",
              "      <td>CAMPO LIMPO PAULISTA</td>\n",
              "      <td>SP</td>\n",
              "      <td>37</td>\n",
              "      <td>F</td>\n",
              "      <td>4700</td>\n",
              "      <td>2515</td>\n",
              "      <td>2019-01-06</td>\n",
              "      <td>32,79</td>\n",
              "      <td>M.O.T.O.</td>\n",
              "      <td>OSASCO</td>\n",
              "      <td>BR,</td>\n",
              "    </tr>\n",
              "  </tbody>\n",
              "</table>\n",
              "</div>"
            ],
            "text/plain": [
              "            id               mob_no  ...  purchasing_city purchasing_country\n",
              "0  4,52863E+11  +55 (11) 96387-9924  ...        SAO PAULO                 ,,\n",
              "1  4,52863E+11  +55 (11) 96387-9924  ...           SANTOS                BR,\n",
              "2  4,52863E+11  +55 (11) 96387-9924  ...        SAO PAULO                 ,,\n",
              "3  4,52863E+11  +55 (11) 96387-9924  ...           OSASCO                BR,\n",
              "4  4,52863E+11  +55 (11) 96387-9924  ...           OSASCO                BR,\n",
              "\n",
              "[5 rows x 14 columns]"
            ]
          },
          "metadata": {
            "tags": []
          },
          "execution_count": 190
        }
      ]
    },
    {
      "cell_type": "code",
      "metadata": {
        "id": "si5Ca9as79JL"
      },
      "source": [
        "df.amount = df.amount.apply(lambda x : x.replace(',', '.').replace('.', ''))  #replacing comma with decimal, removing unnnecessary full stop\r\n",
        "i = df[df.amount==' -   '].index     # index of non-specified value in amount columns (-), needed to be removed\r\n",
        "df.drop(i, inplace=True)\r\n",
        "df.amount = df.amount.astype(float)      #converting amount to float"
      ],
      "execution_count": null,
      "outputs": []
    },
    {
      "cell_type": "code",
      "metadata": {
        "colab": {
          "base_uri": "https://localhost:8080/"
        },
        "id": "VEXjZ4oi8c9r",
        "outputId": "745edef2-6146-4175-ae2e-3ee8dca401b3"
      },
      "source": [
        "#converted amount to float and date to dateTime format\r\n",
        "df.info()"
      ],
      "execution_count": null,
      "outputs": [
        {
          "output_type": "stream",
          "text": [
            "<class 'pandas.core.frame.DataFrame'>\n",
            "Int64Index: 4942 entries, 0 to 4954\n",
            "Data columns (total 14 columns):\n",
            " #   Column              Non-Null Count  Dtype         \n",
            "---  ------              --------------  -----         \n",
            " 0   id                  4942 non-null   object        \n",
            " 1   mob_no              4942 non-null   object        \n",
            " 2   branch_no           4942 non-null   int64         \n",
            " 3   city                4942 non-null   object        \n",
            " 4   state               4942 non-null   object        \n",
            " 5   age                 4942 non-null   int64         \n",
            " 6   gender              4942 non-null   object        \n",
            " 7   total_CC_limit      4942 non-null   int64         \n",
            " 8   current_avl_limit   4942 non-null   int64         \n",
            " 9   date                4942 non-null   datetime64[ns]\n",
            " 10  amount              4942 non-null   float64       \n",
            " 11  categ_exp           4942 non-null   object        \n",
            " 12  purchasing_city     4935 non-null   object        \n",
            " 13  purchasing_country  4931 non-null   object        \n",
            "dtypes: datetime64[ns](1), float64(1), int64(4), object(8)\n",
            "memory usage: 579.1+ KB\n"
          ],
          "name": "stdout"
        }
      ]
    },
    {
      "cell_type": "code",
      "metadata": {
        "id": "Q_l_sa1_A70G"
      },
      "source": [
        "#converting gender to dummy variables\r\n",
        "dummy = pd.get_dummies(df.gender, drop_first=True)       #removed gender feature and replaced with male (1 for male, 0 for female) \r\n",
        "df = pd.concat([df, dummy], axis = 1)\r\n",
        "df.drop('gender', axis = 1, inplace=True)\r\n",
        "df.rename(columns = {'M':'male'}, inplace = True) "
      ],
      "execution_count": null,
      "outputs": []
    },
    {
      "cell_type": "code",
      "metadata": {
        "colab": {
          "base_uri": "https://localhost:8080/",
          "height": 279
        },
        "id": "NgwNU5SWDcWY",
        "outputId": "1f134e3c-b2c3-40a0-fb69-4f229bd169ae"
      },
      "source": [
        "df.head()"
      ],
      "execution_count": null,
      "outputs": [
        {
          "output_type": "execute_result",
          "data": {
            "text/html": [
              "<div>\n",
              "<style scoped>\n",
              "    .dataframe tbody tr th:only-of-type {\n",
              "        vertical-align: middle;\n",
              "    }\n",
              "\n",
              "    .dataframe tbody tr th {\n",
              "        vertical-align: top;\n",
              "    }\n",
              "\n",
              "    .dataframe thead th {\n",
              "        text-align: right;\n",
              "    }\n",
              "</style>\n",
              "<table border=\"1\" class=\"dataframe\">\n",
              "  <thead>\n",
              "    <tr style=\"text-align: right;\">\n",
              "      <th></th>\n",
              "      <th>id</th>\n",
              "      <th>mob_no</th>\n",
              "      <th>branch_no</th>\n",
              "      <th>city</th>\n",
              "      <th>state</th>\n",
              "      <th>age</th>\n",
              "      <th>total_CC_limit</th>\n",
              "      <th>current_avl_limit</th>\n",
              "      <th>date</th>\n",
              "      <th>amount</th>\n",
              "      <th>categ_exp</th>\n",
              "      <th>purchasing_city</th>\n",
              "      <th>purchasing_country</th>\n",
              "      <th>male</th>\n",
              "    </tr>\n",
              "  </thead>\n",
              "  <tbody>\n",
              "    <tr>\n",
              "      <th>0</th>\n",
              "      <td>4,52863E+11</td>\n",
              "      <td>+55 (11) 96387-9924</td>\n",
              "      <td>201405</td>\n",
              "      <td>CAMPO LIMPO PAULISTA</td>\n",
              "      <td>SP</td>\n",
              "      <td>37</td>\n",
              "      <td>4700</td>\n",
              "      <td>5605</td>\n",
              "      <td>2019-04-12</td>\n",
              "      <td>31.0</td>\n",
              "      <td>SERVIï¿½O</td>\n",
              "      <td>SAO PAULO</td>\n",
              "      <td>,,</td>\n",
              "      <td>0</td>\n",
              "    </tr>\n",
              "    <tr>\n",
              "      <th>1</th>\n",
              "      <td>4,52863E+11</td>\n",
              "      <td>+55 (11) 96387-9924</td>\n",
              "      <td>201405</td>\n",
              "      <td>CAMPO LIMPO PAULISTA</td>\n",
              "      <td>SP</td>\n",
              "      <td>37</td>\n",
              "      <td>4700</td>\n",
              "      <td>5343</td>\n",
              "      <td>2019-09-11</td>\n",
              "      <td>15001.0</td>\n",
              "      <td>FARMACIAS</td>\n",
              "      <td>SANTOS</td>\n",
              "      <td>BR,</td>\n",
              "      <td>0</td>\n",
              "    </tr>\n",
              "    <tr>\n",
              "      <th>2</th>\n",
              "      <td>4,52863E+11</td>\n",
              "      <td>+55 (11) 96387-9924</td>\n",
              "      <td>201405</td>\n",
              "      <td>CAMPO LIMPO PAULISTA</td>\n",
              "      <td>SP</td>\n",
              "      <td>37</td>\n",
              "      <td>4700</td>\n",
              "      <td>2829</td>\n",
              "      <td>2019-06-05</td>\n",
              "      <td>50.0</td>\n",
              "      <td>SERVIï¿½O</td>\n",
              "      <td>SAO PAULO</td>\n",
              "      <td>,,</td>\n",
              "      <td>0</td>\n",
              "    </tr>\n",
              "    <tr>\n",
              "      <th>3</th>\n",
              "      <td>4,52863E+11</td>\n",
              "      <td>+55 (11) 96387-9924</td>\n",
              "      <td>201405</td>\n",
              "      <td>CAMPO LIMPO PAULISTA</td>\n",
              "      <td>SP</td>\n",
              "      <td>37</td>\n",
              "      <td>4700</td>\n",
              "      <td>2547</td>\n",
              "      <td>2019-01-06</td>\n",
              "      <td>544.0</td>\n",
              "      <td>M.O.T.O.</td>\n",
              "      <td>OSASCO</td>\n",
              "      <td>BR,</td>\n",
              "      <td>0</td>\n",
              "    </tr>\n",
              "    <tr>\n",
              "      <th>4</th>\n",
              "      <td>4,52863E+11</td>\n",
              "      <td>+55 (11) 96387-9924</td>\n",
              "      <td>201405</td>\n",
              "      <td>CAMPO LIMPO PAULISTA</td>\n",
              "      <td>SP</td>\n",
              "      <td>37</td>\n",
              "      <td>4700</td>\n",
              "      <td>2515</td>\n",
              "      <td>2019-01-06</td>\n",
              "      <td>3279.0</td>\n",
              "      <td>M.O.T.O.</td>\n",
              "      <td>OSASCO</td>\n",
              "      <td>BR,</td>\n",
              "      <td>0</td>\n",
              "    </tr>\n",
              "  </tbody>\n",
              "</table>\n",
              "</div>"
            ],
            "text/plain": [
              "            id               mob_no  ...  purchasing_country male\n",
              "0  4,52863E+11  +55 (11) 96387-9924  ...                  ,,    0\n",
              "1  4,52863E+11  +55 (11) 96387-9924  ...                 BR,    0\n",
              "2  4,52863E+11  +55 (11) 96387-9924  ...                  ,,    0\n",
              "3  4,52863E+11  +55 (11) 96387-9924  ...                 BR,    0\n",
              "4  4,52863E+11  +55 (11) 96387-9924  ...                 BR,    0\n",
              "\n",
              "[5 rows x 14 columns]"
            ]
          },
          "metadata": {
            "tags": []
          },
          "execution_count": 194
        }
      ]
    },
    {
      "cell_type": "code",
      "metadata": {
        "id": "MWlaEK-lJyKC"
      },
      "source": [
        ""
      ],
      "execution_count": null,
      "outputs": []
    }
  ]
}