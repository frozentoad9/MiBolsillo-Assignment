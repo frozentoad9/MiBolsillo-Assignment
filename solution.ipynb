{
 "cells": [
  {
   "cell_type": "markdown",
   "metadata": {
    "id": "K9VEDl1kfOEo"
   },
   "source": [
    "### Contact Me:\n",
    "#### email : *ayushdaksh9@gmail.com*\n",
    "#### [linkedIn](https://www.linkedin.com/in/ayushdaksh/)\n",
    "#### [github](https://github.com/frozentoad9)"
   ]
  },
  {
   "cell_type": "code",
   "execution_count": 73,
   "metadata": {
    "id": "DaU25MWgbtt_"
   },
   "outputs": [],
   "source": [
    "#importing relevant libraries for analysis and visualization\n",
    "import pandas as pd\n",
    "import numpy as np\n",
    "import matplotlib.pyplot as plt\n",
    "import seaborn as sns\n",
    "import warnings\n",
    "warnings.filterwarnings(\"ignore\")"
   ]
  },
  {
   "cell_type": "markdown",
   "metadata": {
    "id": "Txpu_uTmbtuF"
   },
   "source": [
    "### **1.\tWhat would be the suggested steps to make this Supervised Learning Model?**\n",
    "*   First we need to clean and do some preprocessing on the data so that ML models can be applied to it.\n",
    "*   splitting the data into training and test set, model will be trained on training set and tested on test set and error will be calculated.\n",
    "*   Using a basic Machine Learning model and testing the error. Let it be logistic Regression or SVM.\n",
    "*   Then we use several different ML algorithms such as Decision Tree, SVM, Naive Bayes, KNN and also bagging and pasting algorithms. Voting classifier can also be used. Powerful techniques such as Boosting techniques like gradient boosting and XGBoost can also be used.\n",
    "*   If these generic models are not giving promising accuracy, we can use Neural Network such as ANN. These are relativily slow to train but have given decent accuracy. We can even visualize the validation error and test error after every epoch which tells about the behaviour of the model and can select the best hyperparamters. \n",
    "*   We train the model on all the above algorithms and select the model giving the least error i.e. maximum accuracy on the test set.\n",
    "*   We then tune the hyperparameters of the selected algorithm using either GRIDSearchCV or RandomizedSearchCV depending on the level of tuning we are doing. Latter is computationally relevant while former is for the best parameters but may take too much time. If time can be compromised, then we should definitely go with GRIDSearchCV.\n",
    "*   We divide the training data into one more section called Validation set to find the cross validation score (K-fold cross validation, or we can use any other type of validation method) and find the best hyperparameters by checking the validation and test accuracy. If they are preety much the same, then model is good enough else there might be cases of overfitting or underfitting the data.\n",
    "*   After hyperparameter tuning and finding the lowest error parameters, the model is ready to be used for the new unseen data i.e. for the future models, Or as the data increases we can re-train the model for better accuracy i.e. better generalisation of the model on the future dataset.\n",
    "\n",
    "\n",
    "\n",
    "\n",
    "\n",
    "\n",
    "\n",
    "\n",
    "\n",
    "\n"
   ]
  },
  {
   "cell_type": "markdown",
   "metadata": {},
   "source": [
    "### **2.\tWhat are some of the challenges you oversee from the dataset shared?**\n",
    "*   The data was in portuguese. So, it had to be converted into English for the general understanding.\n",
    "*   There were several non-ASCII characters in the data that had to be removed.\n",
    "*   Several rows were empty in the Purchasing_City column, which had to be removed."
   ]
  },
  {
   "cell_type": "markdown",
   "metadata": {
    "id": "quvVDj3MQLyo"
   },
   "source": [
    "### **3.\tDo you consider a need to apply any preprocessing on the training dataset? If so, why?**\n",
    "**Preprocesing starts after this Text block* \n",
    "\n",
    "*   Removed non-ASCII values from the **category of expenses** column.\n",
    "*   converted date object to **dateTime** format for their use in analysis. \n",
    "*   Converting the dtype of **amount** from object to **float** and removed unnecessary characters like \"-\", replaced \",\" by \".\" to make sure the data transforms into float.\n",
    "* Created **dummy variables** for the gender column and created a **new feature male** and removed the old gender feature. This was done because ML models expects data to be in numeric form.\n",
    "\n",
    "\n",
    "\n",
    "\n",
    "\n"
   ]
  },
  {
   "cell_type": "markdown",
   "metadata": {
    "id": "eT9Abld_Lo4M"
   },
   "source": [
    "### **Preprocessing**"
   ]
  },
  {
   "cell_type": "code",
   "execution_count": 74,
   "metadata": {
    "colab": {
     "base_uri": "https://localhost:8080/",
     "height": 383
    },
    "id": "aiZg5r7IbtuM",
    "outputId": "faf57f15-34a7-4c0b-987b-af30605ae554"
   },
   "outputs": [
    {
     "data": {
      "text/html": [
       "<div>\n",
       "<style scoped>\n",
       "    .dataframe tbody tr th:only-of-type {\n",
       "        vertical-align: middle;\n",
       "    }\n",
       "\n",
       "    .dataframe tbody tr th {\n",
       "        vertical-align: top;\n",
       "    }\n",
       "\n",
       "    .dataframe thead th {\n",
       "        text-align: right;\n",
       "    }\n",
       "</style>\n",
       "<table border=\"1\" class=\"dataframe\">\n",
       "  <thead>\n",
       "    <tr style=\"text-align: right;\">\n",
       "      <th></th>\n",
       "      <th>id</th>\n",
       "      <th>celular</th>\n",
       "      <th>safra_abertura</th>\n",
       "      <th>cidade</th>\n",
       "      <th>estado</th>\n",
       "      <th>idade</th>\n",
       "      <th>sexo</th>\n",
       "      <th>limite_total</th>\n",
       "      <th>limite_disp</th>\n",
       "      <th>data</th>\n",
       "      <th>valor</th>\n",
       "      <th>grupo_estabelecimento</th>\n",
       "      <th>cidade_estabelecimento</th>\n",
       "      <th>pais_estabelecimento,,,</th>\n",
       "    </tr>\n",
       "  </thead>\n",
       "  <tbody>\n",
       "    <tr>\n",
       "      <th>0</th>\n",
       "      <td>4,52863E+11</td>\n",
       "      <td>+55 (11) 96387-9924</td>\n",
       "      <td>201405</td>\n",
       "      <td>CAMPO LIMPO PAULISTA</td>\n",
       "      <td>SP</td>\n",
       "      <td>37</td>\n",
       "      <td>F</td>\n",
       "      <td>4700</td>\n",
       "      <td>5605</td>\n",
       "      <td>04/12/19</td>\n",
       "      <td>31</td>\n",
       "      <td>SERVIï¿½ï¿½ï¿½O</td>\n",
       "      <td>SAO ,,</td>\n",
       "      <td>NaN</td>\n",
       "    </tr>\n",
       "    <tr>\n",
       "      <th>1</th>\n",
       "      <td>4,52863E+11</td>\n",
       "      <td>+55 (11) 96387-9924</td>\n",
       "      <td>201405</td>\n",
       "      <td>CAMPO LIMPO PAULISTA</td>\n",
       "      <td>SP</td>\n",
       "      <td>37</td>\n",
       "      <td>F</td>\n",
       "      <td>4700</td>\n",
       "      <td>5343</td>\n",
       "      <td>09/11/19</td>\n",
       "      <td>150,01</td>\n",
       "      <td>FARMACIAS</td>\n",
       "      <td>SANTOS</td>\n",
       "      <td>BR,</td>\n",
       "    </tr>\n",
       "    <tr>\n",
       "      <th>2</th>\n",
       "      <td>4,52863E+11</td>\n",
       "      <td>+55 (11) 96387-9924</td>\n",
       "      <td>201405</td>\n",
       "      <td>CAMPO LIMPO PAULISTA</td>\n",
       "      <td>SP</td>\n",
       "      <td>37</td>\n",
       "      <td>F</td>\n",
       "      <td>4700</td>\n",
       "      <td>2829</td>\n",
       "      <td>06/05/19</td>\n",
       "      <td>50</td>\n",
       "      <td>SERVIï¿½ï¿½ï¿½O</td>\n",
       "      <td>SAO ,,</td>\n",
       "      <td>NaN</td>\n",
       "    </tr>\n",
       "    <tr>\n",
       "      <th>3</th>\n",
       "      <td>4,52863E+11</td>\n",
       "      <td>+55 (11) 96387-9924</td>\n",
       "      <td>201405</td>\n",
       "      <td>CAMPO LIMPO PAULISTA</td>\n",
       "      <td>SP</td>\n",
       "      <td>37</td>\n",
       "      <td>F</td>\n",
       "      <td>4700</td>\n",
       "      <td>2547</td>\n",
       "      <td>01/06/19</td>\n",
       "      <td>54,4</td>\n",
       "      <td>M.O.T.O.</td>\n",
       "      <td>OSASCO</td>\n",
       "      <td>BR,</td>\n",
       "    </tr>\n",
       "    <tr>\n",
       "      <th>4</th>\n",
       "      <td>4,52863E+11</td>\n",
       "      <td>+55 (11) 96387-9924</td>\n",
       "      <td>201405</td>\n",
       "      <td>CAMPO LIMPO PAULISTA</td>\n",
       "      <td>SP</td>\n",
       "      <td>37</td>\n",
       "      <td>F</td>\n",
       "      <td>4700</td>\n",
       "      <td>2515</td>\n",
       "      <td>01/06/19</td>\n",
       "      <td>32,79</td>\n",
       "      <td>M.O.T.O.</td>\n",
       "      <td>OSASCO</td>\n",
       "      <td>BR,</td>\n",
       "    </tr>\n",
       "  </tbody>\n",
       "</table>\n",
       "</div>"
      ],
      "text/plain": [
       "            id              celular  safra_abertura                  cidade  \\\n",
       "0  4,52863E+11  +55 (11) 96387-9924          201405  CAMPO LIMPO PAULISTA     \n",
       "1  4,52863E+11  +55 (11) 96387-9924          201405  CAMPO LIMPO PAULISTA     \n",
       "2  4,52863E+11  +55 (11) 96387-9924          201405  CAMPO LIMPO PAULISTA     \n",
       "3  4,52863E+11  +55 (11) 96387-9924          201405  CAMPO LIMPO PAULISTA     \n",
       "4  4,52863E+11  +55 (11) 96387-9924          201405  CAMPO LIMPO PAULISTA     \n",
       "\n",
       "  estado  idade sexo  limite_total  limite_disp      data  valor   \\\n",
       "0    SP      37    F          4700         5605  04/12/19      31   \n",
       "1    SP      37    F          4700         5343  09/11/19  150,01   \n",
       "2    SP      37    F          4700         2829  06/05/19      50   \n",
       "3    SP      37    F          4700         2547  01/06/19    54,4   \n",
       "4    SP      37    F          4700         2515  01/06/19   32,79   \n",
       "\n",
       "  grupo_estabelecimento cidade_estabelecimento pais_estabelecimento,,,  \n",
       "0       SERVIï¿½ï¿½ï¿½O                 SAO ,,                     NaN  \n",
       "1             FARMACIAS                 SANTOS                     BR,  \n",
       "2       SERVIï¿½ï¿½ï¿½O                 SAO ,,                     NaN  \n",
       "3              M.O.T.O.                 OSASCO                     BR,  \n",
       "4              M.O.T.O.                 OSASCO                     BR,  "
      ]
     },
     "execution_count": 74,
     "metadata": {},
     "output_type": "execute_result"
    }
   ],
   "source": [
    "#importing the semi-colon seperated data\n",
    "df = pd.read_csv(\"Data/base_poupacerto_20200519.csv\", encoding = 'latin', sep=';')\n",
    "df.head()     "
   ]
  },
  {
   "cell_type": "code",
   "execution_count": 75,
   "metadata": {
    "colab": {
     "base_uri": "https://localhost:8080/"
    },
    "id": "nTFiVVszINzq",
    "outputId": "50f8321a-74d4-4b1a-8085-16b9f6b9d4a9"
   },
   "outputs": [
    {
     "data": {
      "text/plain": [
       "29"
      ]
     },
     "execution_count": 75,
     "metadata": {},
     "output_type": "execute_result"
    }
   ],
   "source": [
    "#no. of unique users in the data\n",
    "df.id.nunique()"
   ]
  },
  {
   "cell_type": "code",
   "execution_count": 76,
   "metadata": {
    "colab": {
     "base_uri": "https://localhost:8080/"
    },
    "id": "G3uAK0t8btuN",
    "outputId": "ce53976d-5848-45ae-ee08-b0df99ad7b6e"
   },
   "outputs": [
    {
     "data": {
      "text/plain": [
       "id                            0\n",
       "celular                       0\n",
       "safra_abertura                0\n",
       "cidade                        0\n",
       "estado                        0\n",
       "idade                         0\n",
       "sexo                          0\n",
       "limite_total                  0\n",
       "limite_disp                   0\n",
       "data                          0\n",
       " valor                        0\n",
       "grupo_estabelecimento         0\n",
       "cidade_estabelecimento       19\n",
       "pais_estabelecimento,,,    1796\n",
       "dtype: int64"
      ]
     },
     "execution_count": 76,
     "metadata": {},
     "output_type": "execute_result"
    }
   ],
   "source": [
    "#checking the null values\n",
    "df.isnull().sum()"
   ]
  },
  {
   "cell_type": "markdown",
   "metadata": {
    "id": "jfs37R3Wg6mF"
   },
   "source": [
    "*   *City and Country has some missing values (Comparitively lower than the whole data)*\n",
    "\n",
    "\n",
    "\n",
    "\n",
    "\n",
    "\n",
    "\n"
   ]
  },
  {
   "cell_type": "code",
   "execution_count": 77,
   "metadata": {
    "colab": {
     "base_uri": "https://localhost:8080/"
    },
    "id": "acmvYwY7btuO",
    "outputId": "22bb94e7-46cd-4ca3-8c26-fbaab7eb03cc"
   },
   "outputs": [
    {
     "data": {
      "text/plain": [
       "(4955, 14)"
      ]
     },
     "execution_count": 77,
     "metadata": {},
     "output_type": "execute_result"
    }
   ],
   "source": [
    "df.shape"
   ]
  },
  {
   "cell_type": "markdown",
   "metadata": {
    "id": "IQH4FaF_hUSQ"
   },
   "source": [
    "\n",
    "\n",
    "*   *Total 4955 rows in the data with 14 columns (features) with 29 users in total*\n",
    "\n",
    "\n",
    "\n",
    "\n"
   ]
  },
  {
   "cell_type": "code",
   "execution_count": 78,
   "metadata": {
    "colab": {
     "base_uri": "https://localhost:8080/"
    },
    "id": "tkjthlPcbtuX",
    "outputId": "9beb1467-587a-43a5-ce38-075824e41b9d"
   },
   "outputs": [
    {
     "data": {
      "text/plain": [
       "id                           29\n",
       "celular                      29\n",
       "safra_abertura               23\n",
       "cidade                       10\n",
       "estado                        2\n",
       "idade                        20\n",
       "sexo                          2\n",
       "limite_total                 55\n",
       "limite_disp                3801\n",
       "data                        403\n",
       " valor                     2710\n",
       "grupo_estabelecimento        25\n",
       "cidade_estabelecimento      196\n",
       "pais_estabelecimento,,,      14\n",
       "dtype: int64"
      ]
     },
     "execution_count": 78,
     "metadata": {},
     "output_type": "execute_result"
    }
   ],
   "source": [
    "#unique values in the columns\n",
    "df.nunique(axis=0)"
   ]
  },
  {
   "cell_type": "code",
   "execution_count": 79,
   "metadata": {
    "colab": {
     "base_uri": "https://localhost:8080/"
    },
    "id": "NO-SEV3DbtuY",
    "outputId": "998f5265-b420-4039-9a9d-1c56d90e9902"
   },
   "outputs": [
    {
     "name": "stdout",
     "output_type": "stream",
     "text": [
      "Index(['id', 'celular', 'safra_abertura', 'cidade', 'estado', 'idade', 'sexo',\n",
      "       'limite_total', 'limite_disp', 'data', ' valor ',\n",
      "       'grupo_estabelecimento', 'cidade_estabelecimento',\n",
      "       'pais_estabelecimento,,,'],\n",
      "      dtype='object')\n"
     ]
    }
   ],
   "source": [
    "#columns in the data\n",
    "print(df.columns)\n",
    "#converting the columns into Enlish Language for better understanding\n",
    "df.columns = ['id', 'mob_no', 'branch_no', 'city', 'state', 'age', 'gender',\n",
    "              'total_CC_limit', 'current_avl_limit', 'date', 'amount', 'categ_exp', 'purchasing_city', 'purchasing_country']"
   ]
  },
  {
   "cell_type": "code",
   "execution_count": 80,
   "metadata": {
    "colab": {
     "base_uri": "https://localhost:8080/",
     "height": 279
    },
    "id": "fj-_vn25btuZ",
    "outputId": "7ba1e4b9-f392-45fc-f424-d5172b88e096"
   },
   "outputs": [
    {
     "data": {
      "text/html": [
       "<div>\n",
       "<style scoped>\n",
       "    .dataframe tbody tr th:only-of-type {\n",
       "        vertical-align: middle;\n",
       "    }\n",
       "\n",
       "    .dataframe tbody tr th {\n",
       "        vertical-align: top;\n",
       "    }\n",
       "\n",
       "    .dataframe thead th {\n",
       "        text-align: right;\n",
       "    }\n",
       "</style>\n",
       "<table border=\"1\" class=\"dataframe\">\n",
       "  <thead>\n",
       "    <tr style=\"text-align: right;\">\n",
       "      <th></th>\n",
       "      <th>id</th>\n",
       "      <th>mob_no</th>\n",
       "      <th>branch_no</th>\n",
       "      <th>city</th>\n",
       "      <th>state</th>\n",
       "      <th>age</th>\n",
       "      <th>gender</th>\n",
       "      <th>total_CC_limit</th>\n",
       "      <th>current_avl_limit</th>\n",
       "      <th>date</th>\n",
       "      <th>amount</th>\n",
       "      <th>categ_exp</th>\n",
       "      <th>purchasing_city</th>\n",
       "      <th>purchasing_country</th>\n",
       "    </tr>\n",
       "  </thead>\n",
       "  <tbody>\n",
       "    <tr>\n",
       "      <th>0</th>\n",
       "      <td>4,52863E+11</td>\n",
       "      <td>+55 (11) 96387-9924</td>\n",
       "      <td>201405</td>\n",
       "      <td>CAMPO LIMPO PAULISTA</td>\n",
       "      <td>SP</td>\n",
       "      <td>37</td>\n",
       "      <td>F</td>\n",
       "      <td>4700</td>\n",
       "      <td>5605</td>\n",
       "      <td>04/12/19</td>\n",
       "      <td>31</td>\n",
       "      <td>SERVIï¿½ï¿½ï¿½O</td>\n",
       "      <td>SAO ,,</td>\n",
       "      <td>NaN</td>\n",
       "    </tr>\n",
       "    <tr>\n",
       "      <th>1</th>\n",
       "      <td>4,52863E+11</td>\n",
       "      <td>+55 (11) 96387-9924</td>\n",
       "      <td>201405</td>\n",
       "      <td>CAMPO LIMPO PAULISTA</td>\n",
       "      <td>SP</td>\n",
       "      <td>37</td>\n",
       "      <td>F</td>\n",
       "      <td>4700</td>\n",
       "      <td>5343</td>\n",
       "      <td>09/11/19</td>\n",
       "      <td>150,01</td>\n",
       "      <td>FARMACIAS</td>\n",
       "      <td>SANTOS</td>\n",
       "      <td>BR,</td>\n",
       "    </tr>\n",
       "    <tr>\n",
       "      <th>2</th>\n",
       "      <td>4,52863E+11</td>\n",
       "      <td>+55 (11) 96387-9924</td>\n",
       "      <td>201405</td>\n",
       "      <td>CAMPO LIMPO PAULISTA</td>\n",
       "      <td>SP</td>\n",
       "      <td>37</td>\n",
       "      <td>F</td>\n",
       "      <td>4700</td>\n",
       "      <td>2829</td>\n",
       "      <td>06/05/19</td>\n",
       "      <td>50</td>\n",
       "      <td>SERVIï¿½ï¿½ï¿½O</td>\n",
       "      <td>SAO ,,</td>\n",
       "      <td>NaN</td>\n",
       "    </tr>\n",
       "    <tr>\n",
       "      <th>3</th>\n",
       "      <td>4,52863E+11</td>\n",
       "      <td>+55 (11) 96387-9924</td>\n",
       "      <td>201405</td>\n",
       "      <td>CAMPO LIMPO PAULISTA</td>\n",
       "      <td>SP</td>\n",
       "      <td>37</td>\n",
       "      <td>F</td>\n",
       "      <td>4700</td>\n",
       "      <td>2547</td>\n",
       "      <td>01/06/19</td>\n",
       "      <td>54,4</td>\n",
       "      <td>M.O.T.O.</td>\n",
       "      <td>OSASCO</td>\n",
       "      <td>BR,</td>\n",
       "    </tr>\n",
       "    <tr>\n",
       "      <th>4</th>\n",
       "      <td>4,52863E+11</td>\n",
       "      <td>+55 (11) 96387-9924</td>\n",
       "      <td>201405</td>\n",
       "      <td>CAMPO LIMPO PAULISTA</td>\n",
       "      <td>SP</td>\n",
       "      <td>37</td>\n",
       "      <td>F</td>\n",
       "      <td>4700</td>\n",
       "      <td>2515</td>\n",
       "      <td>01/06/19</td>\n",
       "      <td>32,79</td>\n",
       "      <td>M.O.T.O.</td>\n",
       "      <td>OSASCO</td>\n",
       "      <td>BR,</td>\n",
       "    </tr>\n",
       "  </tbody>\n",
       "</table>\n",
       "</div>"
      ],
      "text/plain": [
       "            id               mob_no  branch_no                    city state  \\\n",
       "0  4,52863E+11  +55 (11) 96387-9924     201405  CAMPO LIMPO PAULISTA     SP    \n",
       "1  4,52863E+11  +55 (11) 96387-9924     201405  CAMPO LIMPO PAULISTA     SP    \n",
       "2  4,52863E+11  +55 (11) 96387-9924     201405  CAMPO LIMPO PAULISTA     SP    \n",
       "3  4,52863E+11  +55 (11) 96387-9924     201405  CAMPO LIMPO PAULISTA     SP    \n",
       "4  4,52863E+11  +55 (11) 96387-9924     201405  CAMPO LIMPO PAULISTA     SP    \n",
       "\n",
       "   age gender  total_CC_limit  current_avl_limit      date  amount  \\\n",
       "0   37      F            4700               5605  04/12/19      31   \n",
       "1   37      F            4700               5343  09/11/19  150,01   \n",
       "2   37      F            4700               2829  06/05/19      50   \n",
       "3   37      F            4700               2547  01/06/19    54,4   \n",
       "4   37      F            4700               2515  01/06/19   32,79   \n",
       "\n",
       "         categ_exp purchasing_city purchasing_country  \n",
       "0  SERVIï¿½ï¿½ï¿½O          SAO ,,                NaN  \n",
       "1        FARMACIAS          SANTOS                BR,  \n",
       "2  SERVIï¿½ï¿½ï¿½O          SAO ,,                NaN  \n",
       "3         M.O.T.O.          OSASCO                BR,  \n",
       "4         M.O.T.O.          OSASCO                BR,  "
      ]
     },
     "execution_count": 80,
     "metadata": {},
     "output_type": "execute_result"
    }
   ],
   "source": [
    "df.head()"
   ]
  },
  {
   "cell_type": "code",
   "execution_count": 81,
   "metadata": {
    "colab": {
     "base_uri": "https://localhost:8080/"
    },
    "id": "J2hCdWag_z9Z",
    "outputId": "d6beb582-4f0a-475d-a7cb-2cff8718c853"
   },
   "outputs": [
    {
     "name": "stdout",
     "output_type": "stream",
     "text": [
      "<class 'pandas.core.frame.DataFrame'>\n",
      "RangeIndex: 4955 entries, 0 to 4954\n",
      "Data columns (total 14 columns):\n",
      " #   Column              Non-Null Count  Dtype \n",
      "---  ------              --------------  ----- \n",
      " 0   id                  4955 non-null   object\n",
      " 1   mob_no              4955 non-null   object\n",
      " 2   branch_no           4955 non-null   int64 \n",
      " 3   city                4955 non-null   object\n",
      " 4   state               4955 non-null   object\n",
      " 5   age                 4955 non-null   int64 \n",
      " 6   gender              4955 non-null   object\n",
      " 7   total_CC_limit      4955 non-null   int64 \n",
      " 8   current_avl_limit   4955 non-null   int64 \n",
      " 9   date                4955 non-null   object\n",
      " 10  amount              4955 non-null   object\n",
      " 11  categ_exp           4955 non-null   object\n",
      " 12  purchasing_city     4936 non-null   object\n",
      " 13  purchasing_country  3159 non-null   object\n",
      "dtypes: int64(4), object(10)\n",
      "memory usage: 542.1+ KB\n"
     ]
    }
   ],
   "source": [
    "df.info()"
   ]
  },
  {
   "cell_type": "code",
   "execution_count": 82,
   "metadata": {
    "colab": {
     "base_uri": "https://localhost:8080/"
    },
    "id": "WHkjlSD81i4m",
    "outputId": "2f6949af-6f4e-4142-8c99-2aebddd8e166"
   },
   "outputs": [
    {
     "data": {
      "text/plain": [
       "0       04/12/19\n",
       "1       09/11/19\n",
       "2       06/05/19\n",
       "3       01/06/19\n",
       "4       01/06/19\n",
       "          ...   \n",
       "4950    23/01/20\n",
       "4951    23/01/20\n",
       "4952    19/02/20\n",
       "4953    30/03/20\n",
       "4954    24/01/20\n",
       "Name: date, Length: 4955, dtype: object"
      ]
     },
     "execution_count": 82,
     "metadata": {},
     "output_type": "execute_result"
    }
   ],
   "source": [
    "df.date"
   ]
  },
  {
   "cell_type": "code",
   "execution_count": 83,
   "metadata": {
    "id": "OzAMMt9t1x-U"
   },
   "outputs": [],
   "source": [
    "#converting date to datetime format\n",
    "df.date = pd.to_datetime(df.date)"
   ]
  },
  {
   "cell_type": "code",
   "execution_count": 84,
   "metadata": {
    "colab": {
     "base_uri": "https://localhost:8080/"
    },
    "id": "EQpoHzGh18B_",
    "outputId": "6b2f74ce-22bf-486b-de36-444335d1acbc"
   },
   "outputs": [
    {
     "data": {
      "text/plain": [
       "0      2019-04-12\n",
       "1      2019-09-11\n",
       "2      2019-06-05\n",
       "3      2019-01-06\n",
       "4      2019-01-06\n",
       "          ...    \n",
       "4950   2020-01-23\n",
       "4951   2020-01-23\n",
       "4952   2020-02-19\n",
       "4953   2020-03-30\n",
       "4954   2020-01-24\n",
       "Name: date, Length: 4955, dtype: datetime64[ns]"
      ]
     },
     "execution_count": 84,
     "metadata": {},
     "output_type": "execute_result"
    }
   ],
   "source": [
    "df.date"
   ]
  },
  {
   "cell_type": "code",
   "execution_count": 85,
   "metadata": {
    "colab": {
     "base_uri": "https://localhost:8080/",
     "height": 279
    },
    "id": "SxBsbocx7DdR",
    "outputId": "53c44a63-9252-42d6-8b11-28ba5ee3f358"
   },
   "outputs": [
    {
     "data": {
      "text/html": [
       "<div>\n",
       "<style scoped>\n",
       "    .dataframe tbody tr th:only-of-type {\n",
       "        vertical-align: middle;\n",
       "    }\n",
       "\n",
       "    .dataframe tbody tr th {\n",
       "        vertical-align: top;\n",
       "    }\n",
       "\n",
       "    .dataframe thead th {\n",
       "        text-align: right;\n",
       "    }\n",
       "</style>\n",
       "<table border=\"1\" class=\"dataframe\">\n",
       "  <thead>\n",
       "    <tr style=\"text-align: right;\">\n",
       "      <th></th>\n",
       "      <th>id</th>\n",
       "      <th>mob_no</th>\n",
       "      <th>branch_no</th>\n",
       "      <th>city</th>\n",
       "      <th>state</th>\n",
       "      <th>age</th>\n",
       "      <th>gender</th>\n",
       "      <th>total_CC_limit</th>\n",
       "      <th>current_avl_limit</th>\n",
       "      <th>date</th>\n",
       "      <th>amount</th>\n",
       "      <th>categ_exp</th>\n",
       "      <th>purchasing_city</th>\n",
       "      <th>purchasing_country</th>\n",
       "    </tr>\n",
       "  </thead>\n",
       "  <tbody>\n",
       "    <tr>\n",
       "      <th>0</th>\n",
       "      <td>4,52863E+11</td>\n",
       "      <td>+55 (11) 96387-9924</td>\n",
       "      <td>201405</td>\n",
       "      <td>CAMPO LIMPO PAULISTA</td>\n",
       "      <td>SP</td>\n",
       "      <td>37</td>\n",
       "      <td>F</td>\n",
       "      <td>4700</td>\n",
       "      <td>5605</td>\n",
       "      <td>2019-04-12</td>\n",
       "      <td>31</td>\n",
       "      <td>SERVIï¿½ï¿½ï¿½O</td>\n",
       "      <td>SAO ,,</td>\n",
       "      <td>NaN</td>\n",
       "    </tr>\n",
       "    <tr>\n",
       "      <th>1</th>\n",
       "      <td>4,52863E+11</td>\n",
       "      <td>+55 (11) 96387-9924</td>\n",
       "      <td>201405</td>\n",
       "      <td>CAMPO LIMPO PAULISTA</td>\n",
       "      <td>SP</td>\n",
       "      <td>37</td>\n",
       "      <td>F</td>\n",
       "      <td>4700</td>\n",
       "      <td>5343</td>\n",
       "      <td>2019-09-11</td>\n",
       "      <td>150,01</td>\n",
       "      <td>FARMACIAS</td>\n",
       "      <td>SANTOS</td>\n",
       "      <td>BR,</td>\n",
       "    </tr>\n",
       "    <tr>\n",
       "      <th>2</th>\n",
       "      <td>4,52863E+11</td>\n",
       "      <td>+55 (11) 96387-9924</td>\n",
       "      <td>201405</td>\n",
       "      <td>CAMPO LIMPO PAULISTA</td>\n",
       "      <td>SP</td>\n",
       "      <td>37</td>\n",
       "      <td>F</td>\n",
       "      <td>4700</td>\n",
       "      <td>2829</td>\n",
       "      <td>2019-06-05</td>\n",
       "      <td>50</td>\n",
       "      <td>SERVIï¿½ï¿½ï¿½O</td>\n",
       "      <td>SAO ,,</td>\n",
       "      <td>NaN</td>\n",
       "    </tr>\n",
       "    <tr>\n",
       "      <th>3</th>\n",
       "      <td>4,52863E+11</td>\n",
       "      <td>+55 (11) 96387-9924</td>\n",
       "      <td>201405</td>\n",
       "      <td>CAMPO LIMPO PAULISTA</td>\n",
       "      <td>SP</td>\n",
       "      <td>37</td>\n",
       "      <td>F</td>\n",
       "      <td>4700</td>\n",
       "      <td>2547</td>\n",
       "      <td>2019-01-06</td>\n",
       "      <td>54,4</td>\n",
       "      <td>M.O.T.O.</td>\n",
       "      <td>OSASCO</td>\n",
       "      <td>BR,</td>\n",
       "    </tr>\n",
       "    <tr>\n",
       "      <th>4</th>\n",
       "      <td>4,52863E+11</td>\n",
       "      <td>+55 (11) 96387-9924</td>\n",
       "      <td>201405</td>\n",
       "      <td>CAMPO LIMPO PAULISTA</td>\n",
       "      <td>SP</td>\n",
       "      <td>37</td>\n",
       "      <td>F</td>\n",
       "      <td>4700</td>\n",
       "      <td>2515</td>\n",
       "      <td>2019-01-06</td>\n",
       "      <td>32,79</td>\n",
       "      <td>M.O.T.O.</td>\n",
       "      <td>OSASCO</td>\n",
       "      <td>BR,</td>\n",
       "    </tr>\n",
       "  </tbody>\n",
       "</table>\n",
       "</div>"
      ],
      "text/plain": [
       "            id               mob_no  branch_no                    city state  \\\n",
       "0  4,52863E+11  +55 (11) 96387-9924     201405  CAMPO LIMPO PAULISTA     SP    \n",
       "1  4,52863E+11  +55 (11) 96387-9924     201405  CAMPO LIMPO PAULISTA     SP    \n",
       "2  4,52863E+11  +55 (11) 96387-9924     201405  CAMPO LIMPO PAULISTA     SP    \n",
       "3  4,52863E+11  +55 (11) 96387-9924     201405  CAMPO LIMPO PAULISTA     SP    \n",
       "4  4,52863E+11  +55 (11) 96387-9924     201405  CAMPO LIMPO PAULISTA     SP    \n",
       "\n",
       "   age gender  total_CC_limit  current_avl_limit       date  amount  \\\n",
       "0   37      F            4700               5605 2019-04-12      31   \n",
       "1   37      F            4700               5343 2019-09-11  150,01   \n",
       "2   37      F            4700               2829 2019-06-05      50   \n",
       "3   37      F            4700               2547 2019-01-06    54,4   \n",
       "4   37      F            4700               2515 2019-01-06   32,79   \n",
       "\n",
       "         categ_exp purchasing_city purchasing_country  \n",
       "0  SERVIï¿½ï¿½ï¿½O          SAO ,,                NaN  \n",
       "1        FARMACIAS          SANTOS                BR,  \n",
       "2  SERVIï¿½ï¿½ï¿½O          SAO ,,                NaN  \n",
       "3         M.O.T.O.          OSASCO                BR,  \n",
       "4         M.O.T.O.          OSASCO                BR,  "
      ]
     },
     "execution_count": 85,
     "metadata": {},
     "output_type": "execute_result"
    }
   ],
   "source": [
    "df.head()"
   ]
  },
  {
   "cell_type": "code",
   "execution_count": 86,
   "metadata": {
    "id": "si5Ca9as79JL"
   },
   "outputs": [],
   "source": [
    "df.amount = df.amount.apply(lambda x : x.replace(',', '.').replace('.', ''))  #replacing comma with decimal, removing unnnecessary full stop\n",
    "i = df[df.amount==' -   '].index     # index of non-specified value in amount columns (-), needed to be removed\n",
    "df.drop(i, inplace=True)\n",
    "df.amount = df.amount.astype(float)      #converting amount to float"
   ]
  },
  {
   "cell_type": "code",
   "execution_count": 87,
   "metadata": {
    "colab": {
     "base_uri": "https://localhost:8080/"
    },
    "id": "VEXjZ4oi8c9r",
    "outputId": "745edef2-6146-4175-ae2e-3ee8dca401b3"
   },
   "outputs": [
    {
     "name": "stdout",
     "output_type": "stream",
     "text": [
      "<class 'pandas.core.frame.DataFrame'>\n",
      "Int64Index: 4942 entries, 0 to 4954\n",
      "Data columns (total 14 columns):\n",
      " #   Column              Non-Null Count  Dtype         \n",
      "---  ------              --------------  -----         \n",
      " 0   id                  4942 non-null   object        \n",
      " 1   mob_no              4942 non-null   object        \n",
      " 2   branch_no           4942 non-null   int64         \n",
      " 3   city                4942 non-null   object        \n",
      " 4   state               4942 non-null   object        \n",
      " 5   age                 4942 non-null   int64         \n",
      " 6   gender              4942 non-null   object        \n",
      " 7   total_CC_limit      4942 non-null   int64         \n",
      " 8   current_avl_limit   4942 non-null   int64         \n",
      " 9   date                4942 non-null   datetime64[ns]\n",
      " 10  amount              4942 non-null   float64       \n",
      " 11  categ_exp           4942 non-null   object        \n",
      " 12  purchasing_city     4935 non-null   object        \n",
      " 13  purchasing_country  3147 non-null   object        \n",
      "dtypes: datetime64[ns](1), float64(1), int64(4), object(8)\n",
      "memory usage: 579.1+ KB\n"
     ]
    }
   ],
   "source": [
    "#converted amount to float and date to dateTime format\n",
    "df.info()"
   ]
  },
  {
   "cell_type": "code",
   "execution_count": 88,
   "metadata": {
    "id": "Q_l_sa1_A70G"
   },
   "outputs": [],
   "source": [
    "#converting gender to dummy variables\n",
    "dummy = pd.get_dummies(df.gender, drop_first=True)       #removed gender feature and replaced with male (1 for male, 0 for female) \n",
    "df = pd.concat([df, dummy], axis = 1)\n",
    "df.drop('gender', axis = 1, inplace=True)\n",
    "df.rename(columns = {'M':'male'}, inplace = True) "
   ]
  },
  {
   "cell_type": "code",
   "execution_count": 89,
   "metadata": {},
   "outputs": [],
   "source": [
    "#converting duplicates of SERVICO into single entity and removing unnecessary charcters from AUTO PEIAS\n",
    "df.categ_exp = df.categ_exp.apply(lambda x:\"SERVICO\" if x[:3]=='SER' else x)\n",
    "df.categ_exp = df.categ_exp.apply(lambda x:\"AUTO PEIAS\" if x=='AUTO PEï¿½ï¿½ï¿½AS' else x)"
   ]
  },
  {
   "cell_type": "code",
   "execution_count": 90,
   "metadata": {
    "colab": {
     "base_uri": "https://localhost:8080/",
     "height": 279
    },
    "id": "NgwNU5SWDcWY",
    "outputId": "1f134e3c-b2c3-40a0-fb69-4f229bd169ae"
   },
   "outputs": [
    {
     "data": {
      "text/html": [
       "<div>\n",
       "<style scoped>\n",
       "    .dataframe tbody tr th:only-of-type {\n",
       "        vertical-align: middle;\n",
       "    }\n",
       "\n",
       "    .dataframe tbody tr th {\n",
       "        vertical-align: top;\n",
       "    }\n",
       "\n",
       "    .dataframe thead th {\n",
       "        text-align: right;\n",
       "    }\n",
       "</style>\n",
       "<table border=\"1\" class=\"dataframe\">\n",
       "  <thead>\n",
       "    <tr style=\"text-align: right;\">\n",
       "      <th></th>\n",
       "      <th>id</th>\n",
       "      <th>mob_no</th>\n",
       "      <th>branch_no</th>\n",
       "      <th>city</th>\n",
       "      <th>state</th>\n",
       "      <th>age</th>\n",
       "      <th>total_CC_limit</th>\n",
       "      <th>current_avl_limit</th>\n",
       "      <th>date</th>\n",
       "      <th>amount</th>\n",
       "      <th>categ_exp</th>\n",
       "      <th>purchasing_city</th>\n",
       "      <th>purchasing_country</th>\n",
       "      <th>male</th>\n",
       "    </tr>\n",
       "  </thead>\n",
       "  <tbody>\n",
       "    <tr>\n",
       "      <th>0</th>\n",
       "      <td>4,52863E+11</td>\n",
       "      <td>+55 (11) 96387-9924</td>\n",
       "      <td>201405</td>\n",
       "      <td>CAMPO LIMPO PAULISTA</td>\n",
       "      <td>SP</td>\n",
       "      <td>37</td>\n",
       "      <td>4700</td>\n",
       "      <td>5605</td>\n",
       "      <td>2019-04-12</td>\n",
       "      <td>31.0</td>\n",
       "      <td>SERVICO</td>\n",
       "      <td>SAO ,,</td>\n",
       "      <td>NaN</td>\n",
       "      <td>0</td>\n",
       "    </tr>\n",
       "    <tr>\n",
       "      <th>1</th>\n",
       "      <td>4,52863E+11</td>\n",
       "      <td>+55 (11) 96387-9924</td>\n",
       "      <td>201405</td>\n",
       "      <td>CAMPO LIMPO PAULISTA</td>\n",
       "      <td>SP</td>\n",
       "      <td>37</td>\n",
       "      <td>4700</td>\n",
       "      <td>5343</td>\n",
       "      <td>2019-09-11</td>\n",
       "      <td>15001.0</td>\n",
       "      <td>FARMACIAS</td>\n",
       "      <td>SANTOS</td>\n",
       "      <td>BR,</td>\n",
       "      <td>0</td>\n",
       "    </tr>\n",
       "    <tr>\n",
       "      <th>2</th>\n",
       "      <td>4,52863E+11</td>\n",
       "      <td>+55 (11) 96387-9924</td>\n",
       "      <td>201405</td>\n",
       "      <td>CAMPO LIMPO PAULISTA</td>\n",
       "      <td>SP</td>\n",
       "      <td>37</td>\n",
       "      <td>4700</td>\n",
       "      <td>2829</td>\n",
       "      <td>2019-06-05</td>\n",
       "      <td>50.0</td>\n",
       "      <td>SERVICO</td>\n",
       "      <td>SAO ,,</td>\n",
       "      <td>NaN</td>\n",
       "      <td>0</td>\n",
       "    </tr>\n",
       "    <tr>\n",
       "      <th>3</th>\n",
       "      <td>4,52863E+11</td>\n",
       "      <td>+55 (11) 96387-9924</td>\n",
       "      <td>201405</td>\n",
       "      <td>CAMPO LIMPO PAULISTA</td>\n",
       "      <td>SP</td>\n",
       "      <td>37</td>\n",
       "      <td>4700</td>\n",
       "      <td>2547</td>\n",
       "      <td>2019-01-06</td>\n",
       "      <td>544.0</td>\n",
       "      <td>M.O.T.O.</td>\n",
       "      <td>OSASCO</td>\n",
       "      <td>BR,</td>\n",
       "      <td>0</td>\n",
       "    </tr>\n",
       "    <tr>\n",
       "      <th>4</th>\n",
       "      <td>4,52863E+11</td>\n",
       "      <td>+55 (11) 96387-9924</td>\n",
       "      <td>201405</td>\n",
       "      <td>CAMPO LIMPO PAULISTA</td>\n",
       "      <td>SP</td>\n",
       "      <td>37</td>\n",
       "      <td>4700</td>\n",
       "      <td>2515</td>\n",
       "      <td>2019-01-06</td>\n",
       "      <td>3279.0</td>\n",
       "      <td>M.O.T.O.</td>\n",
       "      <td>OSASCO</td>\n",
       "      <td>BR,</td>\n",
       "      <td>0</td>\n",
       "    </tr>\n",
       "  </tbody>\n",
       "</table>\n",
       "</div>"
      ],
      "text/plain": [
       "            id               mob_no  branch_no                    city state  \\\n",
       "0  4,52863E+11  +55 (11) 96387-9924     201405  CAMPO LIMPO PAULISTA     SP    \n",
       "1  4,52863E+11  +55 (11) 96387-9924     201405  CAMPO LIMPO PAULISTA     SP    \n",
       "2  4,52863E+11  +55 (11) 96387-9924     201405  CAMPO LIMPO PAULISTA     SP    \n",
       "3  4,52863E+11  +55 (11) 96387-9924     201405  CAMPO LIMPO PAULISTA     SP    \n",
       "4  4,52863E+11  +55 (11) 96387-9924     201405  CAMPO LIMPO PAULISTA     SP    \n",
       "\n",
       "   age  total_CC_limit  current_avl_limit       date   amount  categ_exp  \\\n",
       "0   37            4700               5605 2019-04-12     31.0    SERVICO   \n",
       "1   37            4700               5343 2019-09-11  15001.0  FARMACIAS   \n",
       "2   37            4700               2829 2019-06-05     50.0    SERVICO   \n",
       "3   37            4700               2547 2019-01-06    544.0   M.O.T.O.   \n",
       "4   37            4700               2515 2019-01-06   3279.0   M.O.T.O.   \n",
       "\n",
       "  purchasing_city purchasing_country  male  \n",
       "0          SAO ,,                NaN     0  \n",
       "1          SANTOS                BR,     0  \n",
       "2          SAO ,,                NaN     0  \n",
       "3          OSASCO                BR,     0  \n",
       "4          OSASCO                BR,     0  "
      ]
     },
     "execution_count": 90,
     "metadata": {},
     "output_type": "execute_result"
    }
   ],
   "source": [
    "df.head()"
   ]
  },
  {
   "cell_type": "code",
   "execution_count": 91,
   "metadata": {
    "id": "MWlaEK-lJyKC"
   },
   "outputs": [
    {
     "name": "stdout",
     "output_type": "stream",
     "text": [
      "[1, 2, 3, 4, 5, 6, 7, 8, 9, 10, 11, 12, 13, 14, 15, 16, 17, 18, 19, 20, 21, 22, 23, 24, 25, 26, 27, 28, 29]\n"
     ]
    }
   ],
   "source": [
    "#replacing id with consecutive integers for better visualization\n",
    "new_id = list(range(1, len(df.id.unique())+1))\n",
    "print(new_id)\n",
    "df.id.replace(df.id.unique(), new_id, inplace=True)"
   ]
  },
  {
   "cell_type": "code",
   "execution_count": 92,
   "metadata": {},
   "outputs": [
    {
     "data": {
      "text/html": [
       "<div>\n",
       "<style scoped>\n",
       "    .dataframe tbody tr th:only-of-type {\n",
       "        vertical-align: middle;\n",
       "    }\n",
       "\n",
       "    .dataframe tbody tr th {\n",
       "        vertical-align: top;\n",
       "    }\n",
       "\n",
       "    .dataframe thead th {\n",
       "        text-align: right;\n",
       "    }\n",
       "</style>\n",
       "<table border=\"1\" class=\"dataframe\">\n",
       "  <thead>\n",
       "    <tr style=\"text-align: right;\">\n",
       "      <th></th>\n",
       "      <th>id</th>\n",
       "      <th>mob_no</th>\n",
       "      <th>branch_no</th>\n",
       "      <th>city</th>\n",
       "      <th>state</th>\n",
       "      <th>age</th>\n",
       "      <th>total_CC_limit</th>\n",
       "      <th>current_avl_limit</th>\n",
       "      <th>date</th>\n",
       "      <th>amount</th>\n",
       "      <th>categ_exp</th>\n",
       "      <th>purchasing_city</th>\n",
       "      <th>purchasing_country</th>\n",
       "      <th>male</th>\n",
       "    </tr>\n",
       "  </thead>\n",
       "  <tbody>\n",
       "    <tr>\n",
       "      <th>0</th>\n",
       "      <td>1</td>\n",
       "      <td>+55 (11) 96387-9924</td>\n",
       "      <td>201405</td>\n",
       "      <td>CAMPO LIMPO PAULISTA</td>\n",
       "      <td>SP</td>\n",
       "      <td>37</td>\n",
       "      <td>4700</td>\n",
       "      <td>5605</td>\n",
       "      <td>2019-04-12</td>\n",
       "      <td>31.0</td>\n",
       "      <td>SERVICO</td>\n",
       "      <td>SAO ,,</td>\n",
       "      <td>NaN</td>\n",
       "      <td>0</td>\n",
       "    </tr>\n",
       "    <tr>\n",
       "      <th>1</th>\n",
       "      <td>1</td>\n",
       "      <td>+55 (11) 96387-9924</td>\n",
       "      <td>201405</td>\n",
       "      <td>CAMPO LIMPO PAULISTA</td>\n",
       "      <td>SP</td>\n",
       "      <td>37</td>\n",
       "      <td>4700</td>\n",
       "      <td>5343</td>\n",
       "      <td>2019-09-11</td>\n",
       "      <td>15001.0</td>\n",
       "      <td>FARMACIAS</td>\n",
       "      <td>SANTOS</td>\n",
       "      <td>BR,</td>\n",
       "      <td>0</td>\n",
       "    </tr>\n",
       "    <tr>\n",
       "      <th>2</th>\n",
       "      <td>1</td>\n",
       "      <td>+55 (11) 96387-9924</td>\n",
       "      <td>201405</td>\n",
       "      <td>CAMPO LIMPO PAULISTA</td>\n",
       "      <td>SP</td>\n",
       "      <td>37</td>\n",
       "      <td>4700</td>\n",
       "      <td>2829</td>\n",
       "      <td>2019-06-05</td>\n",
       "      <td>50.0</td>\n",
       "      <td>SERVICO</td>\n",
       "      <td>SAO ,,</td>\n",
       "      <td>NaN</td>\n",
       "      <td>0</td>\n",
       "    </tr>\n",
       "    <tr>\n",
       "      <th>3</th>\n",
       "      <td>1</td>\n",
       "      <td>+55 (11) 96387-9924</td>\n",
       "      <td>201405</td>\n",
       "      <td>CAMPO LIMPO PAULISTA</td>\n",
       "      <td>SP</td>\n",
       "      <td>37</td>\n",
       "      <td>4700</td>\n",
       "      <td>2547</td>\n",
       "      <td>2019-01-06</td>\n",
       "      <td>544.0</td>\n",
       "      <td>M.O.T.O.</td>\n",
       "      <td>OSASCO</td>\n",
       "      <td>BR,</td>\n",
       "      <td>0</td>\n",
       "    </tr>\n",
       "    <tr>\n",
       "      <th>4</th>\n",
       "      <td>1</td>\n",
       "      <td>+55 (11) 96387-9924</td>\n",
       "      <td>201405</td>\n",
       "      <td>CAMPO LIMPO PAULISTA</td>\n",
       "      <td>SP</td>\n",
       "      <td>37</td>\n",
       "      <td>4700</td>\n",
       "      <td>2515</td>\n",
       "      <td>2019-01-06</td>\n",
       "      <td>3279.0</td>\n",
       "      <td>M.O.T.O.</td>\n",
       "      <td>OSASCO</td>\n",
       "      <td>BR,</td>\n",
       "      <td>0</td>\n",
       "    </tr>\n",
       "  </tbody>\n",
       "</table>\n",
       "</div>"
      ],
      "text/plain": [
       "   id               mob_no  branch_no                    city state  age  \\\n",
       "0   1  +55 (11) 96387-9924     201405  CAMPO LIMPO PAULISTA     SP    37   \n",
       "1   1  +55 (11) 96387-9924     201405  CAMPO LIMPO PAULISTA     SP    37   \n",
       "2   1  +55 (11) 96387-9924     201405  CAMPO LIMPO PAULISTA     SP    37   \n",
       "3   1  +55 (11) 96387-9924     201405  CAMPO LIMPO PAULISTA     SP    37   \n",
       "4   1  +55 (11) 96387-9924     201405  CAMPO LIMPO PAULISTA     SP    37   \n",
       "\n",
       "   total_CC_limit  current_avl_limit       date   amount  categ_exp  \\\n",
       "0            4700               5605 2019-04-12     31.0    SERVICO   \n",
       "1            4700               5343 2019-09-11  15001.0  FARMACIAS   \n",
       "2            4700               2829 2019-06-05     50.0    SERVICO   \n",
       "3            4700               2547 2019-01-06    544.0   M.O.T.O.   \n",
       "4            4700               2515 2019-01-06   3279.0   M.O.T.O.   \n",
       "\n",
       "  purchasing_city purchasing_country  male  \n",
       "0          SAO ,,                NaN     0  \n",
       "1          SANTOS                BR,     0  \n",
       "2          SAO ,,                NaN     0  \n",
       "3          OSASCO                BR,     0  \n",
       "4          OSASCO                BR,     0  "
      ]
     },
     "execution_count": 92,
     "metadata": {},
     "output_type": "execute_result"
    }
   ],
   "source": [
    "df.head()"
   ]
  },
  {
   "cell_type": "code",
   "execution_count": 93,
   "metadata": {},
   "outputs": [
    {
     "data": {
      "text/plain": [
       "array([ 1,  2,  3,  4,  5,  6,  7,  8,  9, 10, 11, 12, 13, 14, 15, 16, 17,\n",
       "       18, 19, 20, 21, 22, 23, 24, 25, 26, 27, 28, 29], dtype=int64)"
      ]
     },
     "execution_count": 93,
     "metadata": {},
     "output_type": "execute_result"
    }
   ],
   "source": [
    "df.id.unique()"
   ]
  },
  {
   "cell_type": "markdown",
   "metadata": {},
   "source": [
    "### **4.  How would you execute data from any one of the indicators (highlighted in yellow on slide 4) for 1 of the profiles mentioned and across one of the 4 time frames referred on that same slide to analyze user consumption trends ?**\n",
    "*   Here, I'm going to execute the data for the **COVID** (**March 18 - May 2020**).\n",
    "\n",
    "\n",
    "\n",
    "\n",
    "\n"
   ]
  },
  {
   "cell_type": "code",
   "execution_count": 94,
   "metadata": {},
   "outputs": [],
   "source": [
    "#let us differentiate the data for the covid era\n",
    "df_covid = df[(df.date>='2020-03-18') & (df.date<='2020-05-31')]"
   ]
  },
  {
   "cell_type": "code",
   "execution_count": 95,
   "metadata": {},
   "outputs": [
    {
     "data": {
      "text/html": [
       "<div>\n",
       "<style scoped>\n",
       "    .dataframe tbody tr th:only-of-type {\n",
       "        vertical-align: middle;\n",
       "    }\n",
       "\n",
       "    .dataframe tbody tr th {\n",
       "        vertical-align: top;\n",
       "    }\n",
       "\n",
       "    .dataframe thead th {\n",
       "        text-align: right;\n",
       "    }\n",
       "</style>\n",
       "<table border=\"1\" class=\"dataframe\">\n",
       "  <thead>\n",
       "    <tr style=\"text-align: right;\">\n",
       "      <th></th>\n",
       "      <th>id</th>\n",
       "      <th>mob_no</th>\n",
       "      <th>branch_no</th>\n",
       "      <th>city</th>\n",
       "      <th>state</th>\n",
       "      <th>age</th>\n",
       "      <th>total_CC_limit</th>\n",
       "      <th>current_avl_limit</th>\n",
       "      <th>date</th>\n",
       "      <th>amount</th>\n",
       "      <th>categ_exp</th>\n",
       "      <th>purchasing_city</th>\n",
       "      <th>purchasing_country</th>\n",
       "      <th>male</th>\n",
       "    </tr>\n",
       "  </thead>\n",
       "  <tbody>\n",
       "    <tr>\n",
       "      <th>5</th>\n",
       "      <td>1</td>\n",
       "      <td>+55 (11) 96387-9924</td>\n",
       "      <td>201405</td>\n",
       "      <td>CAMPO LIMPO PAULISTA</td>\n",
       "      <td>SP</td>\n",
       "      <td>37</td>\n",
       "      <td>4700</td>\n",
       "      <td>2636</td>\n",
       "      <td>2020-05-05</td>\n",
       "      <td>449.0</td>\n",
       "      <td>ARTIGOS ELETRO</td>\n",
       "      <td>OSASCO</td>\n",
       "      <td>BR,</td>\n",
       "      <td>0</td>\n",
       "    </tr>\n",
       "    <tr>\n",
       "      <th>7</th>\n",
       "      <td>1</td>\n",
       "      <td>+55 (11) 96387-9924</td>\n",
       "      <td>201405</td>\n",
       "      <td>CAMPO LIMPO PAULISTA</td>\n",
       "      <td>SP</td>\n",
       "      <td>37</td>\n",
       "      <td>4700</td>\n",
       "      <td>2789</td>\n",
       "      <td>2020-03-21</td>\n",
       "      <td>5.0</td>\n",
       "      <td>M.O.T.O.</td>\n",
       "      <td>SAO PAULO</td>\n",
       "      <td>BR,,</td>\n",
       "      <td>0</td>\n",
       "    </tr>\n",
       "    <tr>\n",
       "      <th>11</th>\n",
       "      <td>1</td>\n",
       "      <td>+55 (11) 96387-9924</td>\n",
       "      <td>201405</td>\n",
       "      <td>CAMPO LIMPO PAULISTA</td>\n",
       "      <td>SP</td>\n",
       "      <td>37</td>\n",
       "      <td>4700</td>\n",
       "      <td>1706</td>\n",
       "      <td>2020-04-04</td>\n",
       "      <td>36045.0</td>\n",
       "      <td>M.O.T.O.</td>\n",
       "      <td>LNKD.IN/BILL</td>\n",
       "      <td>IE,</td>\n",
       "      <td>0</td>\n",
       "    </tr>\n",
       "    <tr>\n",
       "      <th>29</th>\n",
       "      <td>1</td>\n",
       "      <td>+55 (11) 96387-9924</td>\n",
       "      <td>201405</td>\n",
       "      <td>CAMPO LIMPO PAULISTA</td>\n",
       "      <td>SP</td>\n",
       "      <td>37</td>\n",
       "      <td>4700</td>\n",
       "      <td>2770</td>\n",
       "      <td>2020-04-20</td>\n",
       "      <td>40.0</td>\n",
       "      <td>SERVICO</td>\n",
       "      <td>SAO ,,</td>\n",
       "      <td>NaN</td>\n",
       "      <td>0</td>\n",
       "    </tr>\n",
       "    <tr>\n",
       "      <th>30</th>\n",
       "      <td>1</td>\n",
       "      <td>+55 (11) 96387-9924</td>\n",
       "      <td>201405</td>\n",
       "      <td>CAMPO LIMPO PAULISTA</td>\n",
       "      <td>SP</td>\n",
       "      <td>37</td>\n",
       "      <td>4700</td>\n",
       "      <td>2188</td>\n",
       "      <td>2020-03-25</td>\n",
       "      <td>3.0</td>\n",
       "      <td>M.O.T.O.</td>\n",
       "      <td>SAO PAULO</td>\n",
       "      <td>BR,,</td>\n",
       "      <td>0</td>\n",
       "    </tr>\n",
       "  </tbody>\n",
       "</table>\n",
       "</div>"
      ],
      "text/plain": [
       "    id               mob_no  branch_no                    city state  age  \\\n",
       "5    1  +55 (11) 96387-9924     201405  CAMPO LIMPO PAULISTA     SP    37   \n",
       "7    1  +55 (11) 96387-9924     201405  CAMPO LIMPO PAULISTA     SP    37   \n",
       "11   1  +55 (11) 96387-9924     201405  CAMPO LIMPO PAULISTA     SP    37   \n",
       "29   1  +55 (11) 96387-9924     201405  CAMPO LIMPO PAULISTA     SP    37   \n",
       "30   1  +55 (11) 96387-9924     201405  CAMPO LIMPO PAULISTA     SP    37   \n",
       "\n",
       "    total_CC_limit  current_avl_limit       date   amount       categ_exp  \\\n",
       "5             4700               2636 2020-05-05    449.0  ARTIGOS ELETRO   \n",
       "7             4700               2789 2020-03-21      5.0        M.O.T.O.   \n",
       "11            4700               1706 2020-04-04  36045.0        M.O.T.O.   \n",
       "29            4700               2770 2020-04-20     40.0         SERVICO   \n",
       "30            4700               2188 2020-03-25      3.0        M.O.T.O.   \n",
       "\n",
       "   purchasing_city purchasing_country  male  \n",
       "5           OSASCO                BR,     0  \n",
       "7        SAO PAULO               BR,,     0  \n",
       "11    LNKD.IN/BILL                IE,     0  \n",
       "29          SAO ,,                NaN     0  \n",
       "30       SAO PAULO               BR,,     0  "
      ]
     },
     "execution_count": 95,
     "metadata": {},
     "output_type": "execute_result"
    }
   ],
   "source": [
    "df_covid.head()"
   ]
  },
  {
   "cell_type": "code",
   "execution_count": 96,
   "metadata": {},
   "outputs": [
    {
     "data": {
      "text/html": [
       "<div>\n",
       "<style scoped>\n",
       "    .dataframe tbody tr th:only-of-type {\n",
       "        vertical-align: middle;\n",
       "    }\n",
       "\n",
       "    .dataframe tbody tr th {\n",
       "        vertical-align: top;\n",
       "    }\n",
       "\n",
       "    .dataframe thead th {\n",
       "        text-align: right;\n",
       "    }\n",
       "</style>\n",
       "<table border=\"1\" class=\"dataframe\">\n",
       "  <thead>\n",
       "    <tr style=\"text-align: right;\">\n",
       "      <th></th>\n",
       "      <th>id</th>\n",
       "      <th>branch_no</th>\n",
       "      <th>age</th>\n",
       "      <th>total_CC_limit</th>\n",
       "      <th>current_avl_limit</th>\n",
       "      <th>amount</th>\n",
       "      <th>male</th>\n",
       "    </tr>\n",
       "  </thead>\n",
       "  <tbody>\n",
       "    <tr>\n",
       "      <th>count</th>\n",
       "      <td>333.000000</td>\n",
       "      <td>333.000000</td>\n",
       "      <td>333.000000</td>\n",
       "      <td>333.00000</td>\n",
       "      <td>333.000000</td>\n",
       "      <td>333.000000</td>\n",
       "      <td>333.000000</td>\n",
       "    </tr>\n",
       "    <tr>\n",
       "      <th>mean</th>\n",
       "      <td>16.096096</td>\n",
       "      <td>201664.021021</td>\n",
       "      <td>35.129129</td>\n",
       "      <td>11359.63964</td>\n",
       "      <td>8012.639640</td>\n",
       "      <td>7943.399399</td>\n",
       "      <td>0.504505</td>\n",
       "    </tr>\n",
       "    <tr>\n",
       "      <th>std</th>\n",
       "      <td>7.727849</td>\n",
       "      <td>242.185138</td>\n",
       "      <td>6.423190</td>\n",
       "      <td>12114.93779</td>\n",
       "      <td>11984.266785</td>\n",
       "      <td>18798.435823</td>\n",
       "      <td>0.500732</td>\n",
       "    </tr>\n",
       "    <tr>\n",
       "      <th>min</th>\n",
       "      <td>1.000000</td>\n",
       "      <td>201008.000000</td>\n",
       "      <td>20.000000</td>\n",
       "      <td>500.00000</td>\n",
       "      <td>12.000000</td>\n",
       "      <td>1.000000</td>\n",
       "      <td>0.000000</td>\n",
       "    </tr>\n",
       "    <tr>\n",
       "      <th>25%</th>\n",
       "      <td>11.000000</td>\n",
       "      <td>201508.000000</td>\n",
       "      <td>31.000000</td>\n",
       "      <td>4200.00000</td>\n",
       "      <td>1201.000000</td>\n",
       "      <td>129.000000</td>\n",
       "      <td>0.000000</td>\n",
       "    </tr>\n",
       "    <tr>\n",
       "      <th>50%</th>\n",
       "      <td>16.000000</td>\n",
       "      <td>201710.000000</td>\n",
       "      <td>34.000000</td>\n",
       "      <td>6500.00000</td>\n",
       "      <td>3565.000000</td>\n",
       "      <td>957.000000</td>\n",
       "      <td>1.000000</td>\n",
       "    </tr>\n",
       "    <tr>\n",
       "      <th>75%</th>\n",
       "      <td>23.000000</td>\n",
       "      <td>201901.000000</td>\n",
       "      <td>39.000000</td>\n",
       "      <td>10500.00000</td>\n",
       "      <td>6420.000000</td>\n",
       "      <td>7495.000000</td>\n",
       "      <td>1.000000</td>\n",
       "    </tr>\n",
       "    <tr>\n",
       "      <th>max</th>\n",
       "      <td>29.000000</td>\n",
       "      <td>201910.000000</td>\n",
       "      <td>53.000000</td>\n",
       "      <td>40000.00000</td>\n",
       "      <td>50000.000000</td>\n",
       "      <td>174999.000000</td>\n",
       "      <td>1.000000</td>\n",
       "    </tr>\n",
       "  </tbody>\n",
       "</table>\n",
       "</div>"
      ],
      "text/plain": [
       "               id      branch_no         age  total_CC_limit  \\\n",
       "count  333.000000     333.000000  333.000000       333.00000   \n",
       "mean    16.096096  201664.021021   35.129129     11359.63964   \n",
       "std      7.727849     242.185138    6.423190     12114.93779   \n",
       "min      1.000000  201008.000000   20.000000       500.00000   \n",
       "25%     11.000000  201508.000000   31.000000      4200.00000   \n",
       "50%     16.000000  201710.000000   34.000000      6500.00000   \n",
       "75%     23.000000  201901.000000   39.000000     10500.00000   \n",
       "max     29.000000  201910.000000   53.000000     40000.00000   \n",
       "\n",
       "       current_avl_limit         amount        male  \n",
       "count         333.000000     333.000000  333.000000  \n",
       "mean         8012.639640    7943.399399    0.504505  \n",
       "std         11984.266785   18798.435823    0.500732  \n",
       "min            12.000000       1.000000    0.000000  \n",
       "25%          1201.000000     129.000000    0.000000  \n",
       "50%          3565.000000     957.000000    1.000000  \n",
       "75%          6420.000000    7495.000000    1.000000  \n",
       "max         50000.000000  174999.000000    1.000000  "
      ]
     },
     "execution_count": 96,
     "metadata": {},
     "output_type": "execute_result"
    }
   ],
   "source": [
    "df_covid.describe()"
   ]
  },
  {
   "cell_type": "markdown",
   "metadata": {},
   "source": [
    "### Frequency of use"
   ]
  },
  {
   "cell_type": "code",
   "execution_count": 97,
   "metadata": {},
   "outputs": [
    {
     "data": {
      "text/html": [
       "<div>\n",
       "<style scoped>\n",
       "    .dataframe tbody tr th:only-of-type {\n",
       "        vertical-align: middle;\n",
       "    }\n",
       "\n",
       "    .dataframe tbody tr th {\n",
       "        vertical-align: top;\n",
       "    }\n",
       "\n",
       "    .dataframe thead th {\n",
       "        text-align: right;\n",
       "    }\n",
       "</style>\n",
       "<table border=\"1\" class=\"dataframe\">\n",
       "  <thead>\n",
       "    <tr style=\"text-align: right;\">\n",
       "      <th></th>\n",
       "      <th>frequency</th>\n",
       "    </tr>\n",
       "    <tr>\n",
       "      <th>id</th>\n",
       "      <th></th>\n",
       "    </tr>\n",
       "  </thead>\n",
       "  <tbody>\n",
       "    <tr>\n",
       "      <th>2</th>\n",
       "      <td>1</td>\n",
       "    </tr>\n",
       "    <tr>\n",
       "      <th>4</th>\n",
       "      <td>3</td>\n",
       "    </tr>\n",
       "    <tr>\n",
       "      <th>7</th>\n",
       "      <td>3</td>\n",
       "    </tr>\n",
       "    <tr>\n",
       "      <th>8</th>\n",
       "      <td>4</td>\n",
       "    </tr>\n",
       "    <tr>\n",
       "      <th>5</th>\n",
       "      <td>5</td>\n",
       "    </tr>\n",
       "  </tbody>\n",
       "</table>\n",
       "</div>"
      ],
      "text/plain": [
       "    frequency\n",
       "id           \n",
       "2           1\n",
       "4           3\n",
       "7           3\n",
       "8           4\n",
       "5           5"
      ]
     },
     "execution_count": 97,
     "metadata": {},
     "output_type": "execute_result"
    }
   ],
   "source": [
    "covid_count = pd.DataFrame(df_covid.groupby(by='id')['amount'].count().sort_values())\n",
    "covid_count.columns = ['frequency']\n",
    "covid_count.head()"
   ]
  },
  {
   "cell_type": "code",
   "execution_count": 98,
   "metadata": {},
   "outputs": [
    {
     "data": {
      "image/png": "[encoded data removed]",
      "text/plain": [
       "<Figure size 720x360 with 1 Axes>"
      ]
     },
     "metadata": {
      "needs_background": "light"
     },
     "output_type": "display_data"
    }
   ],
   "source": [
    "plt.figure(figsize=(10, 5))\n",
    "sns.barplot(x = covid_count.index, y=covid_count.frequency)\n",
    "plt.title('Frequency of transaction in COVID-era')\n",
    "plt.xlabel('User')\n",
    "plt.ylabel('frequency')\n",
    "plt.show()"
   ]
  },
  {
   "cell_type": "markdown",
   "metadata": {},
   "source": [
    "#### *  *frequency varying from 1 to 38 with an average of 12.33*"
   ]
  },
  {
   "cell_type": "code",
   "execution_count": 99,
   "metadata": {},
   "outputs": [
    {
     "data": {
      "text/html": [
       "<div>\n",
       "<style scoped>\n",
       "    .dataframe tbody tr th:only-of-type {\n",
       "        vertical-align: middle;\n",
       "    }\n",
       "\n",
       "    .dataframe tbody tr th {\n",
       "        vertical-align: top;\n",
       "    }\n",
       "\n",
       "    .dataframe thead th {\n",
       "        text-align: right;\n",
       "    }\n",
       "</style>\n",
       "<table border=\"1\" class=\"dataframe\">\n",
       "  <thead>\n",
       "    <tr style=\"text-align: right;\">\n",
       "      <th></th>\n",
       "      <th>frequency</th>\n",
       "    </tr>\n",
       "  </thead>\n",
       "  <tbody>\n",
       "    <tr>\n",
       "      <th>count</th>\n",
       "      <td>27.000000</td>\n",
       "    </tr>\n",
       "    <tr>\n",
       "      <th>mean</th>\n",
       "      <td>12.333333</td>\n",
       "    </tr>\n",
       "    <tr>\n",
       "      <th>std</th>\n",
       "      <td>9.801884</td>\n",
       "    </tr>\n",
       "    <tr>\n",
       "      <th>min</th>\n",
       "      <td>1.000000</td>\n",
       "    </tr>\n",
       "    <tr>\n",
       "      <th>25%</th>\n",
       "      <td>5.500000</td>\n",
       "    </tr>\n",
       "    <tr>\n",
       "      <th>50%</th>\n",
       "      <td>8.000000</td>\n",
       "    </tr>\n",
       "    <tr>\n",
       "      <th>75%</th>\n",
       "      <td>18.500000</td>\n",
       "    </tr>\n",
       "    <tr>\n",
       "      <th>max</th>\n",
       "      <td>38.000000</td>\n",
       "    </tr>\n",
       "  </tbody>\n",
       "</table>\n",
       "</div>"
      ],
      "text/plain": [
       "       frequency\n",
       "count  27.000000\n",
       "mean   12.333333\n",
       "std     9.801884\n",
       "min     1.000000\n",
       "25%     5.500000\n",
       "50%     8.000000\n",
       "75%    18.500000\n",
       "max    38.000000"
      ]
     },
     "execution_count": 99,
     "metadata": {},
     "output_type": "execute_result"
    }
   ],
   "source": [
    "covid_count.describe()"
   ]
  },
  {
   "cell_type": "markdown",
   "metadata": {},
   "source": [
    "### Essential vs Non-essential"
   ]
  },
  {
   "cell_type": "code",
   "execution_count": 100,
   "metadata": {},
   "outputs": [
    {
     "data": {
      "text/html": [
       "<div>\n",
       "<style scoped>\n",
       "    .dataframe tbody tr th:only-of-type {\n",
       "        vertical-align: middle;\n",
       "    }\n",
       "\n",
       "    .dataframe tbody tr th {\n",
       "        vertical-align: top;\n",
       "    }\n",
       "\n",
       "    .dataframe thead th {\n",
       "        text-align: right;\n",
       "    }\n",
       "</style>\n",
       "<table border=\"1\" class=\"dataframe\">\n",
       "  <thead>\n",
       "    <tr style=\"text-align: right;\">\n",
       "      <th></th>\n",
       "      <th>id</th>\n",
       "      <th>mob_no</th>\n",
       "      <th>branch_no</th>\n",
       "      <th>city</th>\n",
       "      <th>state</th>\n",
       "      <th>age</th>\n",
       "      <th>total_CC_limit</th>\n",
       "      <th>current_avl_limit</th>\n",
       "      <th>date</th>\n",
       "      <th>amount</th>\n",
       "      <th>categ_exp</th>\n",
       "      <th>purchasing_city</th>\n",
       "      <th>purchasing_country</th>\n",
       "      <th>male</th>\n",
       "    </tr>\n",
       "  </thead>\n",
       "  <tbody>\n",
       "    <tr>\n",
       "      <th>0</th>\n",
       "      <td>1</td>\n",
       "      <td>+55 (11) 96387-9924</td>\n",
       "      <td>201405</td>\n",
       "      <td>CAMPO LIMPO PAULISTA</td>\n",
       "      <td>SP</td>\n",
       "      <td>37</td>\n",
       "      <td>4700</td>\n",
       "      <td>5605</td>\n",
       "      <td>2019-04-12</td>\n",
       "      <td>31.0</td>\n",
       "      <td>SERVICO</td>\n",
       "      <td>SAO ,,</td>\n",
       "      <td>NaN</td>\n",
       "      <td>0</td>\n",
       "    </tr>\n",
       "    <tr>\n",
       "      <th>1</th>\n",
       "      <td>1</td>\n",
       "      <td>+55 (11) 96387-9924</td>\n",
       "      <td>201405</td>\n",
       "      <td>CAMPO LIMPO PAULISTA</td>\n",
       "      <td>SP</td>\n",
       "      <td>37</td>\n",
       "      <td>4700</td>\n",
       "      <td>5343</td>\n",
       "      <td>2019-09-11</td>\n",
       "      <td>15001.0</td>\n",
       "      <td>FARMACIAS</td>\n",
       "      <td>SANTOS</td>\n",
       "      <td>BR,</td>\n",
       "      <td>0</td>\n",
       "    </tr>\n",
       "    <tr>\n",
       "      <th>2</th>\n",
       "      <td>1</td>\n",
       "      <td>+55 (11) 96387-9924</td>\n",
       "      <td>201405</td>\n",
       "      <td>CAMPO LIMPO PAULISTA</td>\n",
       "      <td>SP</td>\n",
       "      <td>37</td>\n",
       "      <td>4700</td>\n",
       "      <td>2829</td>\n",
       "      <td>2019-06-05</td>\n",
       "      <td>50.0</td>\n",
       "      <td>SERVICO</td>\n",
       "      <td>SAO ,,</td>\n",
       "      <td>NaN</td>\n",
       "      <td>0</td>\n",
       "    </tr>\n",
       "    <tr>\n",
       "      <th>3</th>\n",
       "      <td>1</td>\n",
       "      <td>+55 (11) 96387-9924</td>\n",
       "      <td>201405</td>\n",
       "      <td>CAMPO LIMPO PAULISTA</td>\n",
       "      <td>SP</td>\n",
       "      <td>37</td>\n",
       "      <td>4700</td>\n",
       "      <td>2547</td>\n",
       "      <td>2019-01-06</td>\n",
       "      <td>544.0</td>\n",
       "      <td>M.O.T.O.</td>\n",
       "      <td>OSASCO</td>\n",
       "      <td>BR,</td>\n",
       "      <td>0</td>\n",
       "    </tr>\n",
       "    <tr>\n",
       "      <th>4</th>\n",
       "      <td>1</td>\n",
       "      <td>+55 (11) 96387-9924</td>\n",
       "      <td>201405</td>\n",
       "      <td>CAMPO LIMPO PAULISTA</td>\n",
       "      <td>SP</td>\n",
       "      <td>37</td>\n",
       "      <td>4700</td>\n",
       "      <td>2515</td>\n",
       "      <td>2019-01-06</td>\n",
       "      <td>3279.0</td>\n",
       "      <td>M.O.T.O.</td>\n",
       "      <td>OSASCO</td>\n",
       "      <td>BR,</td>\n",
       "      <td>0</td>\n",
       "    </tr>\n",
       "  </tbody>\n",
       "</table>\n",
       "</div>"
      ],
      "text/plain": [
       "   id               mob_no  branch_no                    city state  age  \\\n",
       "0   1  +55 (11) 96387-9924     201405  CAMPO LIMPO PAULISTA     SP    37   \n",
       "1   1  +55 (11) 96387-9924     201405  CAMPO LIMPO PAULISTA     SP    37   \n",
       "2   1  +55 (11) 96387-9924     201405  CAMPO LIMPO PAULISTA     SP    37   \n",
       "3   1  +55 (11) 96387-9924     201405  CAMPO LIMPO PAULISTA     SP    37   \n",
       "4   1  +55 (11) 96387-9924     201405  CAMPO LIMPO PAULISTA     SP    37   \n",
       "\n",
       "   total_CC_limit  current_avl_limit       date   amount  categ_exp  \\\n",
       "0            4700               5605 2019-04-12     31.0    SERVICO   \n",
       "1            4700               5343 2019-09-11  15001.0  FARMACIAS   \n",
       "2            4700               2829 2019-06-05     50.0    SERVICO   \n",
       "3            4700               2547 2019-01-06    544.0   M.O.T.O.   \n",
       "4            4700               2515 2019-01-06   3279.0   M.O.T.O.   \n",
       "\n",
       "  purchasing_city purchasing_country  male  \n",
       "0          SAO ,,                NaN     0  \n",
       "1          SANTOS                BR,     0  \n",
       "2          SAO ,,                NaN     0  \n",
       "3          OSASCO                BR,     0  \n",
       "4          OSASCO                BR,     0  "
      ]
     },
     "execution_count": 100,
     "metadata": {},
     "output_type": "execute_result"
    }
   ],
   "source": [
    "df.head()"
   ]
  },
  {
   "cell_type": "code",
   "execution_count": 101,
   "metadata": {},
   "outputs": [],
   "source": [
    "# defining essential and non-essential category of expenses\n",
    "df_covid.categ_exp.unique()\n",
    "essential = ['FARMACIAS', 'M.O.T.O.', 'VAREJO', 'LOJA DE DEPART',\n",
    "             'VESTUARIO', 'HOSP E CLINICA', 'POSTO DE GAS', 'AUTO PEIAS']\n",
    "non_essential = ['SERVICO', 'ARTIGOS ELETRO', 'MOVEIS E DECOR', 'SEM RAMO',\n",
    "                 'SUPERMERCADOS', 'RESTAURANTE', 'MAT CONSTRUCAO', 'CIA AEREAS', 'JOALHERIA', \n",
    "                'AGENCIA DE TUR', 'HOTEIS', 'INEXISTENTE', 'ALUG DE CARROS']"
   ]
  },
  {
   "cell_type": "code",
   "execution_count": 102,
   "metadata": {},
   "outputs": [
    {
     "data": {
      "image/png": "[encoded data removed]",
      "text/plain": [
       "<Figure size 720x360 with 1 Axes>"
      ]
     },
     "metadata": {
      "needs_background": "light"
     },
     "output_type": "display_data"
    }
   ],
   "source": [
    "#total no. of expenses on essential entitites\n",
    "plt.figure(figsize=(10, 5))\n",
    "essential_no = df_covid[df_covid['categ_exp'].isin(essential)]['categ_exp'].value_counts()\n",
    "sns.barplot(x = essential_no.index, y = essential_no)\n",
    "plt.xticks(rotation=90)\n",
    "plt.title('no. of times essential entities used')\n",
    "plt.xlabel('category of expense')\n",
    "plt.ylabel('no. of times')\n",
    "plt.show()"
   ]
  },
  {
   "cell_type": "code",
   "execution_count": 103,
   "metadata": {},
   "outputs": [
    {
     "data": {
      "image/png": "[encoded data removed]",
      "text/plain": [
       "<Figure size 720x360 with 1 Axes>"
      ]
     },
     "metadata": {
      "needs_background": "light"
     },
     "output_type": "display_data"
    }
   ],
   "source": [
    "#total no. of expenses on non-essential entitites\n",
    "plt.figure(figsize=(10, 5))\n",
    "non_essential_no = df_covid[df_covid['categ_exp'].isin(non_essential)]['categ_exp'].value_counts()\n",
    "sns.barplot(x = non_essential_no.index, y = non_essential_no)\n",
    "plt.xticks(rotation=90)\n",
    "plt.title('no. of times non-essential entities used')\n",
    "plt.xlabel('category of expense')\n",
    "plt.ylabel('no. of times')\n",
    "plt.show()"
   ]
  },
  {
   "cell_type": "code",
   "execution_count": 104,
   "metadata": {},
   "outputs": [
    {
     "name": "stdout",
     "output_type": "stream",
     "text": [
      "Total spending (COVID): 2645152.0 Brazilian R$\n",
      "Total spending on essential entities: 1273551.0 Brazilian R$\n",
      "Total spending on non-essential entities: 1371601.0 Brazilian R$\n",
      "%essential: 48.14660934418892 %\n",
      "%non-essential: 51.85339065581108 %\n"
     ]
    }
   ],
   "source": [
    "#total money spent on entities\n",
    "total_spending = df_covid['amount'].sum()\n",
    "essential_spending = df_covid[df_covid['categ_exp'].isin(essential)]['amount'].sum()\n",
    "non_essential_spending = df_covid[df_covid['categ_exp'].isin(non_essential)]['amount'].sum()\n",
    "print('Total spending (COVID): {} Brazilian R$'.format(total_spending))\n",
    "print('Total spending on essential entities: {} Brazilian R$'.format(essential_spending))\n",
    "print('Total spending on non-essential entities: {} Brazilian R$'.format(non_essential_spending))\n",
    "print('%essential: {} %'.format(essential_spending/total_spending*100))\n",
    "print('%non-essential: {} %'.format(non_essential_spending/total_spending*100))"
   ]
  },
  {
   "cell_type": "code",
   "execution_count": 105,
   "metadata": {},
   "outputs": [
    {
     "name": "stdout",
     "output_type": "stream",
     "text": [
      "top 3 essential expenses\n",
      "VAREJO       64\n",
      "FARMACIAS    25\n",
      "M.O.T.O.     18\n",
      "Name: categ_exp, dtype: int64\n",
      "\n",
      "top 3 non-essential expenses\n",
      "SERVICO          87\n",
      "RESTAURANTE      51\n",
      "SUPERMERCADOS    38\n",
      "Name: categ_exp, dtype: int64\n"
     ]
    }
   ],
   "source": [
    "# top 3 essential and non-essential expenseso\n",
    "print('top 3 essential expenses')\n",
    "print(essential_no[:3])\n",
    "print()\n",
    "print('top 3 non-essential expenses')\n",
    "print(non_essential_no[:3])"
   ]
  },
  {
   "cell_type": "code",
   "execution_count": 106,
   "metadata": {},
   "outputs": [
    {
     "data": {
      "text/html": [
       "<div>\n",
       "<style scoped>\n",
       "    .dataframe tbody tr th:only-of-type {\n",
       "        vertical-align: middle;\n",
       "    }\n",
       "\n",
       "    .dataframe tbody tr th {\n",
       "        vertical-align: top;\n",
       "    }\n",
       "\n",
       "    .dataframe thead th {\n",
       "        text-align: right;\n",
       "    }\n",
       "</style>\n",
       "<table border=\"1\" class=\"dataframe\">\n",
       "  <thead>\n",
       "    <tr style=\"text-align: right;\">\n",
       "      <th></th>\n",
       "      <th>id</th>\n",
       "      <th>mob_no</th>\n",
       "      <th>branch_no</th>\n",
       "      <th>city</th>\n",
       "      <th>state</th>\n",
       "      <th>age</th>\n",
       "      <th>total_CC_limit</th>\n",
       "      <th>current_avl_limit</th>\n",
       "      <th>date</th>\n",
       "      <th>amount</th>\n",
       "      <th>categ_exp</th>\n",
       "      <th>purchasing_city</th>\n",
       "      <th>purchasing_country</th>\n",
       "      <th>male</th>\n",
       "    </tr>\n",
       "  </thead>\n",
       "  <tbody>\n",
       "    <tr>\n",
       "      <th>5</th>\n",
       "      <td>1</td>\n",
       "      <td>+55 (11) 96387-9924</td>\n",
       "      <td>201405</td>\n",
       "      <td>CAMPO LIMPO PAULISTA</td>\n",
       "      <td>SP</td>\n",
       "      <td>37</td>\n",
       "      <td>4700</td>\n",
       "      <td>2636</td>\n",
       "      <td>2020-05-05</td>\n",
       "      <td>449.0</td>\n",
       "      <td>ARTIGOS ELETRO</td>\n",
       "      <td>OSASCO</td>\n",
       "      <td>BR,</td>\n",
       "      <td>0</td>\n",
       "    </tr>\n",
       "    <tr>\n",
       "      <th>7</th>\n",
       "      <td>1</td>\n",
       "      <td>+55 (11) 96387-9924</td>\n",
       "      <td>201405</td>\n",
       "      <td>CAMPO LIMPO PAULISTA</td>\n",
       "      <td>SP</td>\n",
       "      <td>37</td>\n",
       "      <td>4700</td>\n",
       "      <td>2789</td>\n",
       "      <td>2020-03-21</td>\n",
       "      <td>5.0</td>\n",
       "      <td>M.O.T.O.</td>\n",
       "      <td>SAO PAULO</td>\n",
       "      <td>BR,,</td>\n",
       "      <td>0</td>\n",
       "    </tr>\n",
       "    <tr>\n",
       "      <th>11</th>\n",
       "      <td>1</td>\n",
       "      <td>+55 (11) 96387-9924</td>\n",
       "      <td>201405</td>\n",
       "      <td>CAMPO LIMPO PAULISTA</td>\n",
       "      <td>SP</td>\n",
       "      <td>37</td>\n",
       "      <td>4700</td>\n",
       "      <td>1706</td>\n",
       "      <td>2020-04-04</td>\n",
       "      <td>36045.0</td>\n",
       "      <td>M.O.T.O.</td>\n",
       "      <td>LNKD.IN/BILL</td>\n",
       "      <td>IE,</td>\n",
       "      <td>0</td>\n",
       "    </tr>\n",
       "    <tr>\n",
       "      <th>29</th>\n",
       "      <td>1</td>\n",
       "      <td>+55 (11) 96387-9924</td>\n",
       "      <td>201405</td>\n",
       "      <td>CAMPO LIMPO PAULISTA</td>\n",
       "      <td>SP</td>\n",
       "      <td>37</td>\n",
       "      <td>4700</td>\n",
       "      <td>2770</td>\n",
       "      <td>2020-04-20</td>\n",
       "      <td>40.0</td>\n",
       "      <td>SERVICO</td>\n",
       "      <td>SAO ,,</td>\n",
       "      <td>NaN</td>\n",
       "      <td>0</td>\n",
       "    </tr>\n",
       "    <tr>\n",
       "      <th>30</th>\n",
       "      <td>1</td>\n",
       "      <td>+55 (11) 96387-9924</td>\n",
       "      <td>201405</td>\n",
       "      <td>CAMPO LIMPO PAULISTA</td>\n",
       "      <td>SP</td>\n",
       "      <td>37</td>\n",
       "      <td>4700</td>\n",
       "      <td>2188</td>\n",
       "      <td>2020-03-25</td>\n",
       "      <td>3.0</td>\n",
       "      <td>M.O.T.O.</td>\n",
       "      <td>SAO PAULO</td>\n",
       "      <td>BR,,</td>\n",
       "      <td>0</td>\n",
       "    </tr>\n",
       "  </tbody>\n",
       "</table>\n",
       "</div>"
      ],
      "text/plain": [
       "    id               mob_no  branch_no                    city state  age  \\\n",
       "5    1  +55 (11) 96387-9924     201405  CAMPO LIMPO PAULISTA     SP    37   \n",
       "7    1  +55 (11) 96387-9924     201405  CAMPO LIMPO PAULISTA     SP    37   \n",
       "11   1  +55 (11) 96387-9924     201405  CAMPO LIMPO PAULISTA     SP    37   \n",
       "29   1  +55 (11) 96387-9924     201405  CAMPO LIMPO PAULISTA     SP    37   \n",
       "30   1  +55 (11) 96387-9924     201405  CAMPO LIMPO PAULISTA     SP    37   \n",
       "\n",
       "    total_CC_limit  current_avl_limit       date   amount       categ_exp  \\\n",
       "5             4700               2636 2020-05-05    449.0  ARTIGOS ELETRO   \n",
       "7             4700               2789 2020-03-21      5.0        M.O.T.O.   \n",
       "11            4700               1706 2020-04-04  36045.0        M.O.T.O.   \n",
       "29            4700               2770 2020-04-20     40.0         SERVICO   \n",
       "30            4700               2188 2020-03-25      3.0        M.O.T.O.   \n",
       "\n",
       "   purchasing_city purchasing_country  male  \n",
       "5           OSASCO                BR,     0  \n",
       "7        SAO PAULO               BR,,     0  \n",
       "11    LNKD.IN/BILL                IE,     0  \n",
       "29          SAO ,,                NaN     0  \n",
       "30       SAO PAULO               BR,,     0  "
      ]
     },
     "execution_count": 106,
     "metadata": {},
     "output_type": "execute_result"
    }
   ],
   "source": [
    "df_covid.head()"
   ]
  },
  {
   "cell_type": "code",
   "execution_count": 107,
   "metadata": {},
   "outputs": [
    {
     "data": {
      "text/plain": [
       "29"
      ]
     },
     "execution_count": 107,
     "metadata": {},
     "output_type": "execute_result"
    }
   ],
   "source": [
    "credit_limit_freq = []\n",
    "for x in range(1, 30):\n",
    "    credit_limit_freq.append(len(df_covid[df.id==x].total_CC_limit.unique()))\n",
    "len(credit_limit_freq)"
   ]
  },
  {
   "cell_type": "code",
   "execution_count": 108,
   "metadata": {},
   "outputs": [
    {
     "data": {
      "image/png": "[encoded data removed]",
      "text/plain": [
       "<Figure size 720x360 with 1 Axes>"
      ]
     },
     "metadata": {
      "needs_background": "light"
     },
     "output_type": "display_data"
    }
   ],
   "source": [
    "# credit card limit trend across users\n",
    "plt.figure(figsize=(10, 5))\n",
    "sns.barplot([i for i in range(1, 30)], credit_limit_freq)\n",
    "plt.title('no of times credit limit changed')\n",
    "plt.xlabel('user')\n",
    "plt.ylabel('frequency')\n",
    "plt.show()"
   ]
  },
  {
   "cell_type": "code",
   "execution_count": 109,
   "metadata": {},
   "outputs": [
    {
     "data": {
      "text/plain": [
       "5        449.0\n",
       "7          5.0\n",
       "11     36045.0\n",
       "29        40.0\n",
       "30         3.0\n",
       "65       449.0\n",
       "83      2339.0\n",
       "90       598.0\n",
       "115      459.0\n",
       "117     2889.0\n",
       "118     9088.0\n",
       "122      459.0\n",
       "Name: amount, dtype: float64"
      ]
     },
     "execution_count": 109,
     "metadata": {},
     "output_type": "execute_result"
    }
   ],
   "source": [
    "df_covid[df_covid.id==1].amount"
   ]
  },
  {
   "cell_type": "code",
   "execution_count": 110,
   "metadata": {},
   "outputs": [
    {
     "data": {
      "text/html": [
       "<div>\n",
       "<style scoped>\n",
       "    .dataframe tbody tr th:only-of-type {\n",
       "        vertical-align: middle;\n",
       "    }\n",
       "\n",
       "    .dataframe tbody tr th {\n",
       "        vertical-align: top;\n",
       "    }\n",
       "\n",
       "    .dataframe thead th {\n",
       "        text-align: right;\n",
       "    }\n",
       "</style>\n",
       "<table border=\"1\" class=\"dataframe\">\n",
       "  <thead>\n",
       "    <tr style=\"text-align: right;\">\n",
       "      <th></th>\n",
       "      <th>id</th>\n",
       "      <th>mob_no</th>\n",
       "      <th>branch_no</th>\n",
       "      <th>city</th>\n",
       "      <th>state</th>\n",
       "      <th>age</th>\n",
       "      <th>total_CC_limit</th>\n",
       "      <th>current_avl_limit</th>\n",
       "      <th>date</th>\n",
       "      <th>amount</th>\n",
       "      <th>categ_exp</th>\n",
       "      <th>purchasing_city</th>\n",
       "      <th>purchasing_country</th>\n",
       "      <th>male</th>\n",
       "    </tr>\n",
       "  </thead>\n",
       "  <tbody>\n",
       "    <tr>\n",
       "      <th>5</th>\n",
       "      <td>1</td>\n",
       "      <td>+55 (11) 96387-9924</td>\n",
       "      <td>201405</td>\n",
       "      <td>CAMPO LIMPO PAULISTA</td>\n",
       "      <td>SP</td>\n",
       "      <td>37</td>\n",
       "      <td>4700</td>\n",
       "      <td>2636</td>\n",
       "      <td>2020-05-05</td>\n",
       "      <td>449.0</td>\n",
       "      <td>ARTIGOS ELETRO</td>\n",
       "      <td>OSASCO</td>\n",
       "      <td>BR,</td>\n",
       "      <td>0</td>\n",
       "    </tr>\n",
       "    <tr>\n",
       "      <th>7</th>\n",
       "      <td>1</td>\n",
       "      <td>+55 (11) 96387-9924</td>\n",
       "      <td>201405</td>\n",
       "      <td>CAMPO LIMPO PAULISTA</td>\n",
       "      <td>SP</td>\n",
       "      <td>37</td>\n",
       "      <td>4700</td>\n",
       "      <td>2789</td>\n",
       "      <td>2020-03-21</td>\n",
       "      <td>5.0</td>\n",
       "      <td>M.O.T.O.</td>\n",
       "      <td>SAO PAULO</td>\n",
       "      <td>BR,,</td>\n",
       "      <td>0</td>\n",
       "    </tr>\n",
       "    <tr>\n",
       "      <th>11</th>\n",
       "      <td>1</td>\n",
       "      <td>+55 (11) 96387-9924</td>\n",
       "      <td>201405</td>\n",
       "      <td>CAMPO LIMPO PAULISTA</td>\n",
       "      <td>SP</td>\n",
       "      <td>37</td>\n",
       "      <td>4700</td>\n",
       "      <td>1706</td>\n",
       "      <td>2020-04-04</td>\n",
       "      <td>36045.0</td>\n",
       "      <td>M.O.T.O.</td>\n",
       "      <td>LNKD.IN/BILL</td>\n",
       "      <td>IE,</td>\n",
       "      <td>0</td>\n",
       "    </tr>\n",
       "    <tr>\n",
       "      <th>29</th>\n",
       "      <td>1</td>\n",
       "      <td>+55 (11) 96387-9924</td>\n",
       "      <td>201405</td>\n",
       "      <td>CAMPO LIMPO PAULISTA</td>\n",
       "      <td>SP</td>\n",
       "      <td>37</td>\n",
       "      <td>4700</td>\n",
       "      <td>2770</td>\n",
       "      <td>2020-04-20</td>\n",
       "      <td>40.0</td>\n",
       "      <td>SERVICO</td>\n",
       "      <td>SAO ,,</td>\n",
       "      <td>NaN</td>\n",
       "      <td>0</td>\n",
       "    </tr>\n",
       "    <tr>\n",
       "      <th>30</th>\n",
       "      <td>1</td>\n",
       "      <td>+55 (11) 96387-9924</td>\n",
       "      <td>201405</td>\n",
       "      <td>CAMPO LIMPO PAULISTA</td>\n",
       "      <td>SP</td>\n",
       "      <td>37</td>\n",
       "      <td>4700</td>\n",
       "      <td>2188</td>\n",
       "      <td>2020-03-25</td>\n",
       "      <td>3.0</td>\n",
       "      <td>M.O.T.O.</td>\n",
       "      <td>SAO PAULO</td>\n",
       "      <td>BR,,</td>\n",
       "      <td>0</td>\n",
       "    </tr>\n",
       "  </tbody>\n",
       "</table>\n",
       "</div>"
      ],
      "text/plain": [
       "    id               mob_no  branch_no                    city state  age  \\\n",
       "5    1  +55 (11) 96387-9924     201405  CAMPO LIMPO PAULISTA     SP    37   \n",
       "7    1  +55 (11) 96387-9924     201405  CAMPO LIMPO PAULISTA     SP    37   \n",
       "11   1  +55 (11) 96387-9924     201405  CAMPO LIMPO PAULISTA     SP    37   \n",
       "29   1  +55 (11) 96387-9924     201405  CAMPO LIMPO PAULISTA     SP    37   \n",
       "30   1  +55 (11) 96387-9924     201405  CAMPO LIMPO PAULISTA     SP    37   \n",
       "\n",
       "    total_CC_limit  current_avl_limit       date   amount       categ_exp  \\\n",
       "5             4700               2636 2020-05-05    449.0  ARTIGOS ELETRO   \n",
       "7             4700               2789 2020-03-21      5.0        M.O.T.O.   \n",
       "11            4700               1706 2020-04-04  36045.0        M.O.T.O.   \n",
       "29            4700               2770 2020-04-20     40.0         SERVICO   \n",
       "30            4700               2188 2020-03-25      3.0        M.O.T.O.   \n",
       "\n",
       "   purchasing_city purchasing_country  male  \n",
       "5           OSASCO                BR,     0  \n",
       "7        SAO PAULO               BR,,     0  \n",
       "11    LNKD.IN/BILL                IE,     0  \n",
       "29          SAO ,,                NaN     0  \n",
       "30       SAO PAULO               BR,,     0  "
      ]
     },
     "execution_count": 110,
     "metadata": {},
     "output_type": "execute_result"
    }
   ],
   "source": [
    "df_covid.head()"
   ]
  },
  {
   "cell_type": "code",
   "execution_count": 111,
   "metadata": {},
   "outputs": [
    {
     "name": "stdout",
     "output_type": "stream",
     "text": [
      "User id : 1\n",
      "categ_exp  amount\n",
      " M.O.T.O.     3.0\n",
      " M.O.T.O.     5.0\n",
      "  SERVICO    40.0\n"
     ]
    },
    {
     "data": {
      "image/png": "[encoded data removed]",
      "text/plain": [
       "<Figure size 432x288 with 1 Axes>"
      ]
     },
     "metadata": {
      "needs_background": "light"
     },
     "output_type": "display_data"
    },
    {
     "name": "stdout",
     "output_type": "stream",
     "text": [
      "\n",
      "User id : 2\n",
      "categ_exp  amount\n",
      " SEM RAMO  2235.0\n"
     ]
    },
    {
     "data": {
      "image/png": "[encoded data removed]",
      "text/plain": [
       "<Figure size 432x288 with 1 Axes>"
      ]
     },
     "metadata": {
      "needs_background": "light"
     },
     "output_type": "display_data"
    },
    {
     "name": "stdout",
     "output_type": "stream",
     "text": [
      "\n",
      "User id : 3\n",
      "   categ_exp  amount\n",
      " RESTAURANTE     1.0\n",
      " RESTAURANTE     5.0\n",
      "      VAREJO    45.0\n"
     ]
    },
    {
     "data": {
      "image/png": "[encoded data removed]",
      "text/plain": [
       "<Figure size 432x288 with 1 Axes>"
      ]
     },
     "metadata": {
      "needs_background": "light"
     },
     "output_type": "display_data"
    },
    {
     "name": "stdout",
     "output_type": "stream",
     "text": [
      "\n",
      "User id : 4\n",
      " categ_exp   amount\n",
      "    VAREJO   2306.0\n",
      " FARMACIAS  14568.0\n",
      "    VAREJO  28259.0\n"
     ]
    },
    {
     "data": {
      "image/png": "[encoded data removed]",
      "text/plain": [
       "<Figure size 432x288 with 1 Axes>"
      ]
     },
     "metadata": {
      "needs_background": "light"
     },
     "output_type": "display_data"
    },
    {
     "name": "stdout",
     "output_type": "stream",
     "text": [
      "\n",
      "User id : 5\n",
      "categ_exp  amount\n",
      "  SERVICO   269.0\n",
      "  SERVICO   269.0\n",
      " M.O.T.O.  2538.0\n"
     ]
    },
    {
     "data": {
      "image/png": "[encoded data removed]",
      "text/plain": [
       "<Figure size 432x288 with 1 Axes>"
      ]
     },
     "metadata": {
      "needs_background": "light"
     },
     "output_type": "display_data"
    },
    {
     "name": "stdout",
     "output_type": "stream",
     "text": [
      "\n",
      "User id : 6\n",
      "    categ_exp  amount\n",
      "  RESTAURANTE    32.0\n",
      " POSTO DE GAS    50.0\n",
      "       VAREJO   109.0\n"
     ]
    },
    {
     "data": {
      "image/png": "[encoded data removed]",
      "text/plain": [
       "<Figure size 432x288 with 1 Axes>"
      ]
     },
     "metadata": {
      "needs_background": "light"
     },
     "output_type": "display_data"
    },
    {
     "name": "stdout",
     "output_type": "stream",
     "text": [
      "\n",
      "User id : 7\n",
      "      categ_exp   amount\n",
      " LOJA DE DEPART    408.0\n",
      "         VAREJO  10067.0\n",
      "      VESTUARIO  28897.0\n"
     ]
    },
    {
     "data": {
      "image/png": "[encoded data removed]",
      "text/plain": [
       "<Figure size 432x288 with 1 Axes>"
      ]
     },
     "metadata": {
      "needs_background": "light"
     },
     "output_type": "display_data"
    },
    {
     "name": "stdout",
     "output_type": "stream",
     "text": [
      "\n",
      "User id : 8\n",
      "      categ_exp  amount\n",
      "    RESTAURANTE   122.0\n",
      " MOVEIS E DECOR   838.0\n",
      "       M.O.T.O.  6367.0\n"
     ]
    },
    {
     "data": {
      "image/png": "[encoded data removed]",
      "text/plain": [
       "<Figure size 432x288 with 1 Axes>"
      ]
     },
     "metadata": {
      "needs_background": "light"
     },
     "output_type": "display_data"
    },
    {
     "name": "stdout",
     "output_type": "stream",
     "text": [
      "\n",
      "User id : 9\n",
      "categ_exp  amount\n",
      "  SERVICO    66.0\n",
      "  SERVICO    66.0\n",
      "  SERVICO    66.0\n"
     ]
    },
    {
     "data": {
      "image/png": "[encoded data removed]",
      "text/plain": [
       "<Figure size 432x288 with 1 Axes>"
      ]
     },
     "metadata": {
      "needs_background": "light"
     },
     "output_type": "display_data"
    },
    {
     "name": "stdout",
     "output_type": "stream",
     "text": [
      "\n",
      "User id : 10\n",
      " categ_exp  amount\n",
      "  M.O.T.O.    80.0\n",
      " VESTUARIO  1267.0\n",
      "  M.O.T.O.  9479.0\n"
     ]
    },
    {
     "data": {
      "image/png": "[encoded data removed]",
      "text/plain": [
       "<Figure size 432x288 with 1 Axes>"
      ]
     },
     "metadata": {
      "needs_background": "light"
     },
     "output_type": "display_data"
    },
    {
     "name": "stdout",
     "output_type": "stream",
     "text": [
      "\n",
      "User id : 11\n",
      "   categ_exp  amount\n",
      " RESTAURANTE     3.0\n",
      "      VAREJO    17.0\n",
      " RESTAURANTE    23.0\n"
     ]
    },
    {
     "data": {
      "image/png": "[encoded data removed]",
      "text/plain": [
       "<Figure size 432x288 with 1 Axes>"
      ]
     },
     "metadata": {
      "needs_background": "light"
     },
     "output_type": "display_data"
    },
    {
     "name": "stdout",
     "output_type": "stream",
     "text": [
      "\n",
      "User id : 12\n",
      "   categ_exp  amount\n",
      " RESTAURANTE     5.0\n",
      " RESTAURANTE    12.0\n",
      " RESTAURANTE    12.0\n"
     ]
    },
    {
     "data": {
      "image/png": "[encoded data removed]",
      "text/plain": [
       "<Figure size 432x288 with 1 Axes>"
      ]
     },
     "metadata": {
      "needs_background": "light"
     },
     "output_type": "display_data"
    },
    {
     "name": "stdout",
     "output_type": "stream",
     "text": [
      "\n",
      "User id : 13\n",
      "    categ_exp  amount\n",
      "      SERVICO    15.0\n",
      " POSTO DE GAS    24.0\n",
      "      SERVICO   100.0\n"
     ]
    },
    {
     "data": {
      "image/png": "[encoded data removed]",
      "text/plain": [
       "<Figure size 432x288 with 1 Axes>"
      ]
     },
     "metadata": {
      "needs_background": "light"
     },
     "output_type": "display_data"
    },
    {
     "name": "stdout",
     "output_type": "stream",
     "text": [
      "\n",
      "User id : 14\n",
      "   categ_exp  amount\n",
      " RESTAURANTE    75.0\n",
      "     SERVICO   959.0\n",
      "     SERVICO   992.0\n"
     ]
    },
    {
     "data": {
      "image/png": "[encoded data removed]",
      "text/plain": [
       "<Figure size 432x288 with 1 Axes>"
      ]
     },
     "metadata": {
      "needs_background": "light"
     },
     "output_type": "display_data"
    },
    {
     "name": "stdout",
     "output_type": "stream",
     "text": [
      "\n",
      "User id : 15\n",
      "      categ_exp  amount\n",
      " ARTIGOS ELETRO    29.0\n",
      " ARTIGOS ELETRO    29.0\n",
      "         VAREJO    35.0\n"
     ]
    },
    {
     "data": {
      "image/png": "[encoded data removed]",
      "text/plain": [
       "<Figure size 432x288 with 1 Axes>"
      ]
     },
     "metadata": {
      "needs_background": "light"
     },
     "output_type": "display_data"
    },
    {
     "name": "stdout",
     "output_type": "stream",
     "text": [
      "\n",
      "User id : 16\n",
      "    categ_exp  amount\n",
      "      SERVICO    15.0\n",
      " POSTO DE GAS   137.0\n",
      " POSTO DE GAS   171.0\n"
     ]
    },
    {
     "data": {
      "image/png": "[encoded data removed]",
      "text/plain": [
       "<Figure size 432x288 with 1 Axes>"
      ]
     },
     "metadata": {
      "needs_background": "light"
     },
     "output_type": "display_data"
    },
    {
     "name": "stdout",
     "output_type": "stream",
     "text": [
      "\n",
      "User id : 17\n",
      "      categ_exp  amount\n",
      " MAT CONSTRUCAO   558.0\n",
      "        SERVICO  3089.0\n",
      "        SERVICO  3089.0\n"
     ]
    },
    {
     "data": {
      "image/png": "[encoded data removed]",
      "text/plain": [
       "<Figure size 432x288 with 1 Axes>"
      ]
     },
     "metadata": {
      "needs_background": "light"
     },
     "output_type": "display_data"
    },
    {
     "name": "stdout",
     "output_type": "stream",
     "text": [
      "\n",
      "User id : 18\n",
      "     categ_exp  amount\n",
      "   RESTAURANTE   119.0\n",
      "     FARMACIAS  1111.0\n",
      " SUPERMERCADOS  1388.0\n"
     ]
    },
    {
     "data": {
      "image/png": "[encoded data removed]",
      "text/plain": [
       "<Figure size 432x288 with 1 Axes>"
      ]
     },
     "metadata": {
      "needs_background": "light"
     },
     "output_type": "display_data"
    },
    {
     "name": "stdout",
     "output_type": "stream",
     "text": [
      "\n",
      "User id : 19\n",
      "categ_exp  amount\n",
      "  SERVICO     2.0\n",
      "  SERVICO     3.0\n",
      "  SERVICO     3.0\n"
     ]
    },
    {
     "data": {
      "image/png": "[encoded data removed]",
      "text/plain": [
       "<Figure size 432x288 with 1 Axes>"
      ]
     },
     "metadata": {
      "needs_background": "light"
     },
     "output_type": "display_data"
    },
    {
     "name": "stdout",
     "output_type": "stream",
     "text": [
      "\n",
      "User id : 20\n",
      "      categ_exp  amount\n",
      "         VAREJO    32.0\n",
      " LOJA DE DEPART    35.0\n",
      "  SUPERMERCADOS    60.0\n"
     ]
    },
    {
     "data": {
      "image/png": "[encoded data removed]",
      "text/plain": [
       "<Figure size 432x288 with 1 Axes>"
      ]
     },
     "metadata": {
      "needs_background": "light"
     },
     "output_type": "display_data"
    },
    {
     "name": "stdout",
     "output_type": "stream",
     "text": [
      "\n",
      "User id : 22\n",
      "categ_exp  amount\n",
      "  SERVICO     5.0\n",
      "  SERVICO    10.0\n",
      "  SERVICO    30.0\n"
     ]
    },
    {
     "data": {
      "image/png": "[encoded data removed]",
      "text/plain": [
       "<Figure size 432x288 with 1 Axes>"
      ]
     },
     "metadata": {
      "needs_background": "light"
     },
     "output_type": "display_data"
    },
    {
     "name": "stdout",
     "output_type": "stream",
     "text": [
      "\n",
      "User id : 23\n",
      "      categ_exp  amount\n",
      "   POSTO DE GAS    40.0\n",
      " ARTIGOS ELETRO   199.0\n",
      "         VAREJO   957.0\n"
     ]
    },
    {
     "data": {
      "image/png": "[encoded data removed]",
      "text/plain": [
       "<Figure size 432x288 with 1 Axes>"
      ]
     },
     "metadata": {
      "needs_background": "light"
     },
     "output_type": "display_data"
    },
    {
     "name": "stdout",
     "output_type": "stream",
     "text": [
      "\n",
      "User id : 24\n",
      "   categ_exp  amount\n",
      " RESTAURANTE     6.0\n",
      "     SERVICO    19.0\n",
      "     SERVICO    19.0\n"
     ]
    },
    {
     "data": {
      "image/png": "[encoded data removed]",
      "text/plain": [
       "<Figure size 432x288 with 1 Axes>"
      ]
     },
     "metadata": {
      "needs_background": "light"
     },
     "output_type": "display_data"
    },
    {
     "name": "stdout",
     "output_type": "stream",
     "text": [
      "\n",
      "User id : 26\n",
      "   categ_exp  amount\n",
      " RESTAURANTE     2.0\n",
      " RESTAURANTE    34.0\n",
      " RESTAURANTE    57.0\n"
     ]
    },
    {
     "data": {
      "image/png": "[encoded data removed]",
      "text/plain": [
       "<Figure size 432x288 with 1 Axes>"
      ]
     },
     "metadata": {
      "needs_background": "light"
     },
     "output_type": "display_data"
    },
    {
     "name": "stdout",
     "output_type": "stream",
     "text": [
      "\n",
      "User id : 27\n",
      "    categ_exp  amount\n",
      "      SERVICO     8.0\n",
      "  RESTAURANTE    53.0\n",
      " POSTO DE GAS   100.0\n"
     ]
    },
    {
     "data": {
      "image/png": "[encoded data removed]",
      "text/plain": [
       "<Figure size 432x288 with 1 Axes>"
      ]
     },
     "metadata": {
      "needs_background": "light"
     },
     "output_type": "display_data"
    },
    {
     "name": "stdout",
     "output_type": "stream",
     "text": [
      "\n",
      "User id : 28\n",
      "      categ_exp  amount\n",
      "    RESTAURANTE    40.0\n",
      "   POSTO DE GAS    70.0\n",
      " ARTIGOS ELETRO   109.0\n"
     ]
    },
    {
     "data": {
      "image/png": "[encoded data removed]",
      "text/plain": [
       "<Figure size 432x288 with 1 Axes>"
      ]
     },
     "metadata": {
      "needs_background": "light"
     },
     "output_type": "display_data"
    },
    {
     "name": "stdout",
     "output_type": "stream",
     "text": [
      "\n",
      "User id : 29\n",
      "categ_exp  amount\n",
      "   VAREJO    35.0\n",
      "   VAREJO    35.0\n",
      "   VAREJO    35.0\n"
     ]
    },
    {
     "data": {
      "image/png": "[encoded data removed]",
      "text/plain": [
       "<Figure size 432x288 with 1 Axes>"
      ]
     },
     "metadata": {
      "needs_background": "light"
     },
     "output_type": "display_data"
    },
    {
     "name": "stdout",
     "output_type": "stream",
     "text": [
      "\n"
     ]
    }
   ],
   "source": [
    "# top 3 least expense for all the users\n",
    "for i in range(1, 30):\n",
    "    top3 = df_covid[df_covid.id==i].sort_values('amount')[:3]\n",
    "    if top3.shape[0] != 0:\n",
    "        print('User id : {}'.format(i))\n",
    "        print(top3[['categ_exp','amount']].to_string(index=False))\n",
    "        sns.barplot(x = top3['categ_exp'],\n",
    "                    y = top3['amount'])\n",
    "        plt.show()\n",
    "        print()"
   ]
  },
  {
   "cell_type": "markdown",
   "metadata": {},
   "source": [
    "*In the above table 2nd user has done only one transaction in COVID-era while there are 3 people else who have not at all used credit card for transaction in that period.*"
   ]
  },
  {
   "cell_type": "code",
   "execution_count": 112,
   "metadata": {},
   "outputs": [
    {
     "name": "stdout",
     "output_type": "stream",
     "text": [
      "User id : 1\n",
      "categ_exp   amount\n",
      " M.O.T.O.  36045.0\n",
      " M.O.T.O.   9088.0\n",
      " M.O.T.O.   2889.0\n"
     ]
    },
    {
     "data": {
      "image/png": "[encoded data removed]",
      "text/plain": [
       "<Figure size 432x288 with 1 Axes>"
      ]
     },
     "metadata": {
      "needs_background": "light"
     },
     "output_type": "display_data"
    },
    {
     "name": "stdout",
     "output_type": "stream",
     "text": [
      "\n",
      "User id : 2\n",
      "categ_exp  amount\n",
      " SEM RAMO  2235.0\n"
     ]
    },
    {
     "data": {
      "image/png": "[encoded data removed]",
      "text/plain": [
       "<Figure size 432x288 with 1 Axes>"
      ]
     },
     "metadata": {
      "needs_background": "light"
     },
     "output_type": "display_data"
    },
    {
     "name": "stdout",
     "output_type": "stream",
     "text": [
      "\n",
      "User id : 3\n",
      "   categ_exp   amount\n",
      "      VAREJO  20289.0\n",
      " RESTAURANTE  19239.0\n",
      " RESTAURANTE  18249.0\n"
     ]
    },
    {
     "data": {
      "image/png": "[encoded data removed]",
      "text/plain": [
       "<Figure size 432x288 with 1 Axes>"
      ]
     },
     "metadata": {
      "needs_background": "light"
     },
     "output_type": "display_data"
    },
    {
     "name": "stdout",
     "output_type": "stream",
     "text": [
      "\n",
      "User id : 4\n",
      " categ_exp   amount\n",
      "    VAREJO  28259.0\n",
      " FARMACIAS  14568.0\n",
      "    VAREJO   2306.0\n"
     ]
    },
    {
     "data": {
      "image/png": "[encoded data removed]",
      "text/plain": [
       "<Figure size 432x288 with 1 Axes>"
      ]
     },
     "metadata": {
      "needs_background": "light"
     },
     "output_type": "display_data"
    },
    {
     "name": "stdout",
     "output_type": "stream",
     "text": [
      "\n",
      "User id : 5\n",
      "     categ_exp  amount\n",
      " SUPERMERCADOS  3267.0\n",
      "      M.O.T.O.  2629.0\n",
      "      M.O.T.O.  2538.0\n"
     ]
    },
    {
     "data": {
      "image/png": "[encoded data removed]",
      "text/plain": [
       "<Figure size 432x288 with 1 Axes>"
      ]
     },
     "metadata": {
      "needs_background": "light"
     },
     "output_type": "display_data"
    },
    {
     "name": "stdout",
     "output_type": "stream",
     "text": [
      "\n",
      "User id : 6\n",
      "     categ_exp   amount\n",
      " SUPERMERCADOS  26999.0\n",
      "        VAREJO  11657.0\n",
      " SUPERMERCADOS  11337.0\n"
     ]
    },
    {
     "data": {
      "image/png": "[encoded data removed]",
      "text/plain": [
       "<Figure size 432x288 with 1 Axes>"
      ]
     },
     "metadata": {
      "needs_background": "light"
     },
     "output_type": "display_data"
    },
    {
     "name": "stdout",
     "output_type": "stream",
     "text": [
      "\n",
      "User id : 7\n",
      "      categ_exp   amount\n",
      "      VESTUARIO  28897.0\n",
      "         VAREJO  10067.0\n",
      " LOJA DE DEPART    408.0\n"
     ]
    },
    {
     "data": {
      "image/png": "[encoded data removed]",
      "text/plain": [
       "<Figure size 432x288 with 1 Axes>"
      ]
     },
     "metadata": {
      "needs_background": "light"
     },
     "output_type": "display_data"
    },
    {
     "name": "stdout",
     "output_type": "stream",
     "text": [
      "\n",
      "User id : 8\n",
      "      categ_exp   amount\n",
      "      VESTUARIO  20752.0\n",
      "       M.O.T.O.   6367.0\n",
      " MOVEIS E DECOR    838.0\n"
     ]
    },
    {
     "data": {
      "image/png": "[encoded data removed]",
      "text/plain": [
       "<Figure size 432x288 with 1 Axes>"
      ]
     },
     "metadata": {
      "needs_background": "light"
     },
     "output_type": "display_data"
    },
    {
     "name": "stdout",
     "output_type": "stream",
     "text": [
      "\n",
      "User id : 9\n",
      "categ_exp  amount\n",
      "  SERVICO   193.0\n",
      "  SERVICO   117.0\n",
      "  SERVICO   105.0\n"
     ]
    },
    {
     "data": {
      "image/png": "[encoded data removed]",
      "text/plain": [
       "<Figure size 432x288 with 1 Axes>"
      ]
     },
     "metadata": {
      "needs_background": "light"
     },
     "output_type": "display_data"
    },
    {
     "name": "stdout",
     "output_type": "stream",
     "text": [
      "\n",
      "User id : 10\n",
      "categ_exp   amount\n",
      " M.O.T.O.  25098.0\n",
      " M.O.T.O.  19104.0\n",
      "   VAREJO  16838.0\n"
     ]
    },
    {
     "data": {
      "image/png": "[encoded data removed]",
      "text/plain": [
       "<Figure size 432x288 with 1 Axes>"
      ]
     },
     "metadata": {
      "needs_background": "light"
     },
     "output_type": "display_data"
    },
    {
     "name": "stdout",
     "output_type": "stream",
     "text": [
      "\n",
      "User id : 11\n",
      "    categ_exp   amount\n",
      " POSTO DE GAS  20754.0\n",
      "    FARMACIAS  13141.0\n",
      "       VAREJO  12246.0\n"
     ]
    },
    {
     "data": {
      "image/png": "[encoded data removed]",
      "text/plain": [
       "<Figure size 432x288 with 1 Axes>"
      ]
     },
     "metadata": {
      "needs_background": "light"
     },
     "output_type": "display_data"
    },
    {
     "name": "stdout",
     "output_type": "stream",
     "text": [
      "\n",
      "User id : 12\n",
      "   categ_exp  amount\n",
      " RESTAURANTE  4697.0\n",
      "     SERVICO  3749.0\n",
      " RESTAURANTE  2098.0\n"
     ]
    },
    {
     "data": {
      "image/png": "[encoded data removed]",
      "text/plain": [
       "<Figure size 432x288 with 1 Axes>"
      ]
     },
     "metadata": {
      "needs_background": "light"
     },
     "output_type": "display_data"
    },
    {
     "name": "stdout",
     "output_type": "stream",
     "text": [
      "\n",
      "User id : 13\n",
      "categ_exp   amount\n",
      "  SERVICO  99966.0\n",
      "  SERVICO  99966.0\n",
      "   VAREJO  98499.0\n"
     ]
    },
    {
     "data": {
      "image/png": "[encoded data removed]",
      "text/plain": [
       "<Figure size 432x288 with 1 Axes>"
      ]
     },
     "metadata": {
      "needs_background": "light"
     },
     "output_type": "display_data"
    },
    {
     "name": "stdout",
     "output_type": "stream",
     "text": [
      "\n",
      "User id : 14\n",
      "categ_exp  amount\n",
      "  SERVICO  3063.0\n",
      "  SERVICO  2883.0\n",
      "  SERVICO  2725.0\n"
     ]
    },
    {
     "data": {
      "image/png": "[encoded data removed]",
      "text/plain": [
       "<Figure size 432x288 with 1 Axes>"
      ]
     },
     "metadata": {
      "needs_background": "light"
     },
     "output_type": "display_data"
    },
    {
     "name": "stdout",
     "output_type": "stream",
     "text": [
      "\n",
      "User id : 15\n",
      "categ_exp  amount\n",
      "   VAREJO  4761.0\n",
      "   VAREJO   996.0\n",
      "   VAREJO   996.0\n"
     ]
    },
    {
     "data": {
      "image/png": "[encoded data removed]",
      "text/plain": [
       "<Figure size 432x288 with 1 Axes>"
      ]
     },
     "metadata": {
      "needs_background": "light"
     },
     "output_type": "display_data"
    },
    {
     "name": "stdout",
     "output_type": "stream",
     "text": [
      "\n",
      "User id : 16\n",
      "    categ_exp   amount\n",
      "    FARMACIAS  28859.0\n",
      "    FARMACIAS  27449.0\n",
      " POSTO DE GAS    171.0\n"
     ]
    },
    {
     "data": {
      "image/png": "[encoded data removed]",
      "text/plain": [
       "<Figure size 432x288 with 1 Axes>"
      ]
     },
     "metadata": {
      "needs_background": "light"
     },
     "output_type": "display_data"
    },
    {
     "name": "stdout",
     "output_type": "stream",
     "text": [
      "\n",
      "User id : 17\n",
      "     categ_exp   amount\n",
      "        VAREJO  12599.0\n",
      " SUPERMERCADOS   4849.0\n",
      "       SERVICO   3089.0\n"
     ]
    },
    {
     "data": {
      "image/png": "[encoded data removed]",
      "text/plain": [
       "<Figure size 432x288 with 1 Axes>"
      ]
     },
     "metadata": {
      "needs_background": "light"
     },
     "output_type": "display_data"
    },
    {
     "name": "stdout",
     "output_type": "stream",
     "text": [
      "\n",
      "User id : 18\n",
      "     categ_exp  amount\n",
      " SUPERMERCADOS  8095.0\n",
      "  POSTO DE GAS  7467.0\n",
      "   RESTAURANTE  6594.0\n"
     ]
    },
    {
     "data": {
      "image/png": "[encoded data removed]",
      "text/plain": [
       "<Figure size 432x288 with 1 Axes>"
      ]
     },
     "metadata": {
      "needs_background": "light"
     },
     "output_type": "display_data"
    },
    {
     "name": "stdout",
     "output_type": "stream",
     "text": [
      "\n",
      "User id : 19\n",
      "     categ_exp    amount\n",
      " SUPERMERCADOS  103336.0\n",
      "        VAREJO   25723.0\n",
      " SUPERMERCADOS   25293.0\n"
     ]
    },
    {
     "data": {
      "image/png": "[encoded data removed]",
      "text/plain": [
       "<Figure size 432x288 with 1 Axes>"
      ]
     },
     "metadata": {
      "needs_background": "light"
     },
     "output_type": "display_data"
    },
    {
     "name": "stdout",
     "output_type": "stream",
     "text": [
      "\n",
      "User id : 20\n",
      "categ_exp   amount\n",
      "  SERVICO  95537.0\n",
      "  SERVICO  24298.0\n",
      "  SERVICO  23627.0\n"
     ]
    },
    {
     "data": {
      "image/png": "[encoded data removed]",
      "text/plain": [
       "<Figure size 432x288 with 1 Axes>"
      ]
     },
     "metadata": {
      "needs_background": "light"
     },
     "output_type": "display_data"
    },
    {
     "name": "stdout",
     "output_type": "stream",
     "text": [
      "\n",
      "User id : 22\n",
      "      categ_exp  amount\n",
      " ARTIGOS ELETRO  1399.0\n",
      "    RESTAURANTE   447.0\n",
      " MOVEIS E DECOR   120.0\n"
     ]
    },
    {
     "data": {
      "image/png": "[encoded data removed]",
      "text/plain": [
       "<Figure size 432x288 with 1 Axes>"
      ]
     },
     "metadata": {
      "needs_background": "light"
     },
     "output_type": "display_data"
    },
    {
     "name": "stdout",
     "output_type": "stream",
     "text": [
      "\n",
      "User id : 23\n",
      "   categ_exp   amount\n",
      "   FARMACIAS  20596.0\n",
      " RESTAURANTE  18049.0\n",
      " RESTAURANTE  16739.0\n"
     ]
    },
    {
     "data": {
      "image/png": "[encoded data removed]",
      "text/plain": [
       "<Figure size 432x288 with 1 Axes>"
      ]
     },
     "metadata": {
      "needs_background": "light"
     },
     "output_type": "display_data"
    },
    {
     "name": "stdout",
     "output_type": "stream",
     "text": [
      "\n",
      "User id : 24\n",
      "     categ_exp   amount\n",
      " SUPERMERCADOS  35285.0\n",
      " SUPERMERCADOS  31581.0\n",
      "     FARMACIAS  28884.0\n"
     ]
    },
    {
     "data": {
      "image/png": "[encoded data removed]",
      "text/plain": [
       "<Figure size 432x288 with 1 Axes>"
      ]
     },
     "metadata": {
      "needs_background": "light"
     },
     "output_type": "display_data"
    },
    {
     "name": "stdout",
     "output_type": "stream",
     "text": [
      "\n",
      "User id : 26\n",
      "   categ_exp    amount\n",
      "   VESTUARIO  174999.0\n",
      "   FARMACIAS   19707.0\n",
      " RESTAURANTE   12475.0\n"
     ]
    },
    {
     "data": {
      "image/png": "[encoded data removed]",
      "text/plain": [
       "<Figure size 432x288 with 1 Axes>"
      ]
     },
     "metadata": {
      "needs_background": "light"
     },
     "output_type": "display_data"
    },
    {
     "name": "stdout",
     "output_type": "stream",
     "text": [
      "\n",
      "User id : 27\n",
      "      categ_exp   amount\n",
      " LOJA DE DEPART  91469.0\n",
      "  SUPERMERCADOS  27917.0\n",
      "    RESTAURANTE  26951.0\n"
     ]
    },
    {
     "data": {
      "image/png": "[encoded data removed]",
      "text/plain": [
       "<Figure size 432x288 with 1 Axes>"
      ]
     },
     "metadata": {
      "needs_background": "light"
     },
     "output_type": "display_data"
    },
    {
     "name": "stdout",
     "output_type": "stream",
     "text": [
      "\n",
      "User id : 28\n",
      "categ_exp  amount\n",
      "  SERVICO   696.0\n",
      "  SERVICO   219.0\n",
      "  SERVICO   219.0\n"
     ]
    },
    {
     "data": {
      "image/png": "[encoded data removed]",
      "text/plain": [
       "<Figure size 432x288 with 1 Axes>"
      ]
     },
     "metadata": {
      "needs_background": "light"
     },
     "output_type": "display_data"
    },
    {
     "name": "stdout",
     "output_type": "stream",
     "text": [
      "\n",
      "User id : 29\n",
      "categ_exp  amount\n",
      "  SERVICO  3102.0\n",
      "  SERVICO  3102.0\n",
      "  SERVICO   652.0\n"
     ]
    },
    {
     "data": {
      "image/png": "[encoded data removed]",
      "text/plain": [
       "<Figure size 432x288 with 1 Axes>"
      ]
     },
     "metadata": {
      "needs_background": "light"
     },
     "output_type": "display_data"
    },
    {
     "name": "stdout",
     "output_type": "stream",
     "text": [
      "\n"
     ]
    }
   ],
   "source": [
    "# top 3 most expense for all the users\n",
    "for i in range(1, 30):\n",
    "    top3 = df_covid[df_covid.id==i].sort_values('amount', ascending = False)[:3]\n",
    "    if top3.shape[0] != 0:\n",
    "        print('User id : {}'.format(i))\n",
    "        print(top3[['categ_exp','amount']].to_string(index=False))\n",
    "        sns.barplot(x = top3['categ_exp'],\n",
    "                    y = top3['amount'])\n",
    "        plt.show()\n",
    "        print()"
   ]
  },
  {
   "cell_type": "markdown",
   "metadata": {},
   "source": [
    "#### **11th user changed its credit limit the most (10 times) while 21st and 25th user had no such credit limit. In contrast, most of the users didn't apply for their change in the credit limit.*"
   ]
  },
  {
   "cell_type": "markdown",
   "metadata": {},
   "source": [
    "### **5.  If your were the client \"Banco PAN\" how would you envision a dashboard where all this data is collected, which three features from the users' spending behavior do you think they'd be interested in taking a look at and why?**\n",
    "*   Here, we can find the top 3 features that are **highly correlated** (Pearson correlation coefficient) with each other i.e. those feature which change abruptly with the change of the other.\n",
    "\n",
    "\n",
    "\n",
    "\n",
    "\n"
   ]
  },
  {
   "cell_type": "code",
   "execution_count": 113,
   "metadata": {},
   "outputs": [
    {
     "data": {
      "text/html": [
       "<div>\n",
       "<style scoped>\n",
       "    .dataframe tbody tr th:only-of-type {\n",
       "        vertical-align: middle;\n",
       "    }\n",
       "\n",
       "    .dataframe tbody tr th {\n",
       "        vertical-align: top;\n",
       "    }\n",
       "\n",
       "    .dataframe thead th {\n",
       "        text-align: right;\n",
       "    }\n",
       "</style>\n",
       "<table border=\"1\" class=\"dataframe\">\n",
       "  <thead>\n",
       "    <tr style=\"text-align: right;\">\n",
       "      <th></th>\n",
       "      <th>id</th>\n",
       "      <th>branch_no</th>\n",
       "      <th>age</th>\n",
       "      <th>total_CC_limit</th>\n",
       "      <th>current_avl_limit</th>\n",
       "      <th>amount</th>\n",
       "      <th>male</th>\n",
       "    </tr>\n",
       "  </thead>\n",
       "  <tbody>\n",
       "    <tr>\n",
       "      <th>id</th>\n",
       "      <td>1.000000</td>\n",
       "      <td>-0.188970</td>\n",
       "      <td>0.191835</td>\n",
       "      <td>0.406019</td>\n",
       "      <td>0.405453</td>\n",
       "      <td>0.039917</td>\n",
       "      <td>0.453629</td>\n",
       "    </tr>\n",
       "    <tr>\n",
       "      <th>branch_no</th>\n",
       "      <td>-0.188970</td>\n",
       "      <td>1.000000</td>\n",
       "      <td>-0.365763</td>\n",
       "      <td>-0.194742</td>\n",
       "      <td>-0.335052</td>\n",
       "      <td>-0.003260</td>\n",
       "      <td>-0.109896</td>\n",
       "    </tr>\n",
       "    <tr>\n",
       "      <th>age</th>\n",
       "      <td>0.191835</td>\n",
       "      <td>-0.365763</td>\n",
       "      <td>1.000000</td>\n",
       "      <td>0.554631</td>\n",
       "      <td>0.519919</td>\n",
       "      <td>0.094222</td>\n",
       "      <td>0.094320</td>\n",
       "    </tr>\n",
       "    <tr>\n",
       "      <th>total_CC_limit</th>\n",
       "      <td>0.406019</td>\n",
       "      <td>-0.194742</td>\n",
       "      <td>0.554631</td>\n",
       "      <td>1.000000</td>\n",
       "      <td>0.938872</td>\n",
       "      <td>0.166019</td>\n",
       "      <td>0.428910</td>\n",
       "    </tr>\n",
       "    <tr>\n",
       "      <th>current_avl_limit</th>\n",
       "      <td>0.405453</td>\n",
       "      <td>-0.335052</td>\n",
       "      <td>0.519919</td>\n",
       "      <td>0.938872</td>\n",
       "      <td>1.000000</td>\n",
       "      <td>0.097614</td>\n",
       "      <td>0.407079</td>\n",
       "    </tr>\n",
       "    <tr>\n",
       "      <th>amount</th>\n",
       "      <td>0.039917</td>\n",
       "      <td>-0.003260</td>\n",
       "      <td>0.094222</td>\n",
       "      <td>0.166019</td>\n",
       "      <td>0.097614</td>\n",
       "      <td>1.000000</td>\n",
       "      <td>0.055844</td>\n",
       "    </tr>\n",
       "    <tr>\n",
       "      <th>male</th>\n",
       "      <td>0.453629</td>\n",
       "      <td>-0.109896</td>\n",
       "      <td>0.094320</td>\n",
       "      <td>0.428910</td>\n",
       "      <td>0.407079</td>\n",
       "      <td>0.055844</td>\n",
       "      <td>1.000000</td>\n",
       "    </tr>\n",
       "  </tbody>\n",
       "</table>\n",
       "</div>"
      ],
      "text/plain": [
       "                         id  branch_no       age  total_CC_limit  \\\n",
       "id                 1.000000  -0.188970  0.191835        0.406019   \n",
       "branch_no         -0.188970   1.000000 -0.365763       -0.194742   \n",
       "age                0.191835  -0.365763  1.000000        0.554631   \n",
       "total_CC_limit     0.406019  -0.194742  0.554631        1.000000   \n",
       "current_avl_limit  0.405453  -0.335052  0.519919        0.938872   \n",
       "amount             0.039917  -0.003260  0.094222        0.166019   \n",
       "male               0.453629  -0.109896  0.094320        0.428910   \n",
       "\n",
       "                   current_avl_limit    amount      male  \n",
       "id                          0.405453  0.039917  0.453629  \n",
       "branch_no                  -0.335052 -0.003260 -0.109896  \n",
       "age                         0.519919  0.094222  0.094320  \n",
       "total_CC_limit              0.938872  0.166019  0.428910  \n",
       "current_avl_limit           1.000000  0.097614  0.407079  \n",
       "amount                      0.097614  1.000000  0.055844  \n",
       "male                        0.407079  0.055844  1.000000  "
      ]
     },
     "execution_count": 113,
     "metadata": {},
     "output_type": "execute_result"
    }
   ],
   "source": [
    "#correlation matrix for the data\n",
    "df.corr()"
   ]
  },
  {
   "cell_type": "markdown",
   "metadata": {},
   "source": [
    "1. Top 3 correlated features in the dataset are **total_CC_limit(limite_total), current_avl_limit(limite_disp) and age(idade)**.\n",
    "2. In the below Heatmap of Correlation matrix it can be easily visualized their correlation lies after 0.5."
   ]
  },
  {
   "cell_type": "code",
   "execution_count": 115,
   "metadata": {},
   "outputs": [
    {
     "data": {
      "text/plain": [
       "<matplotlib.axes._subplots.AxesSubplot at 0x2a531ace8e0>"
      ]
     },
     "execution_count": 115,
     "metadata": {},
     "output_type": "execute_result"
    },
    {
     "data": {
      "image/png": "[encoded data removed]",
      "text/plain": [
       "<Figure size 720x360 with 2 Axes>"
      ]
     },
     "metadata": {
      "needs_background": "light"
     },
     "output_type": "display_data"
    }
   ],
   "source": [
    "plt.figure(figsize=(10, 5))\n",
    "sns.heatmap(df.corr(), annot=True, linewidths=1, linecolor='black')"
   ]
  },
  {
   "cell_type": "markdown",
   "metadata": {},
   "source": []
  },
  {
   "cell_type": "code",
   "execution_count": null,
   "metadata": {},
   "outputs": [],
   "source": []
  },
  {
   "cell_type": "code",
   "execution_count": null,
   "metadata": {},
   "outputs": [],
   "source": []
  }
 ],
 "metadata": {
  "colab": {
   "collapsed_sections": [],
   "name": "solution.ipynb",
   "provenance": []
  },
  "kernelspec": {
   "display_name": "Python 3",
   "language": "python",
   "name": "python3"
  },
  "language_info": {
   "codemirror_mode": {
    "name": "ipython",
    "version": 3
   },
   "file_extension": ".py",
   "mimetype": "text/x-python",
   "name": "python",
   "nbconvert_exporter": "python",
   "pygments_lexer": "ipython3",
   "version": "3.8.3"
  }
 },
 "nbformat": 4,
 "nbformat_minor": 1
}
